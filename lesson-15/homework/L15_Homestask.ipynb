{
 "cells": [
  {
   "cell_type": "markdown",
   "metadata": {},
   "source": [
    "#Hometask: Two cities, preferably with the above information, and the time updating every second"
   ]
  },
  {
   "cell_type": "code",
   "execution_count": 3,
   "metadata": {},
   "outputs": [
    {
     "name": "stdout",
     "output_type": "stream",
     "text": [
      "The weather in Moscow City, Russia is currently Overcast\n",
      "The tepmrature is -3.7°C\n"
     ]
    }
   ],
   "source": [
    "import json\n",
    "import requests\n",
    "\n",
    "api_key = '5ead5e3ad1a640eeb1b110721250602'\n",
    "city = 'Moscow'\n",
    "url = f'https://api.weatherapi.com/v1/current.json?key={api_key}&q={city}&aqi=no'\n",
    "\n",
    "response = requests.get(url)\n",
    "response = response.json()\n",
    "\n",
    "location_region = response['location']['region'] \n",
    "location_country = response['location']['country']\n",
    "current = response['current']['condition']['text']\n",
    "temprature = response['current']['temp_c']\n",
    "\n",
    "print(f'The weather in {location_region}, {location_country} is currently {current}')\n",
    "print(f'The tepmrature is {temprature}°C')\n"
   ]
  },
  {
   "cell_type": "code",
   "execution_count": null,
   "metadata": {},
   "outputs": [
    {
     "name": "stdout",
     "output_type": "stream",
     "text": [
      "The weather in Toshkent, Uzbekistan is currently Sunny\n",
      "The temperature is 16.4°C\n",
      "Local time in Toshkent, Uzbekistan: 2025-02-08 15:50:45\n",
      "The weather in City of London, Greater London, United Kingdom is currently Light drizzle\n",
      "The temperature is 5.0°C\n",
      "Local time in City of London, Greater London, United Kingdom: 2025-02-08 10:50:45\n"
     ]
    }
   ],
   "source": [
    "#Hometask: Two cities, preferably with the above information, and the time updating every second\n",
    "\n",
    "import json\n",
    "import requests\n",
    "import pytz\n",
    "import time\n",
    "from datetime import datetime\n",
    "from IPython.display import clear_output \n",
    "\n",
    "api_key = '5ead5e3ad1a640eeb1b110721250602'\n",
    "cities = ['Tashkent', 'London']\n",
    "\n",
    "weather = {}\n",
    "\n",
    "for a in cities:\n",
    "    url = f'https://api.weatherapi.com/v1/current.json?key={api_key}&q={a}&aqi=no' \n",
    "    response1 = requests.get(url)\n",
    "    response = response1.json()\n",
    "        \n",
    "    location_region = response['location']['region']\n",
    "    location_country = response['location']['country']\n",
    "    current = response['current']['condition']['text']\n",
    "    temperature = response['current']['temp_c']\n",
    "    \n",
    "    timezone = response['location']['tz_id']\n",
    "\n",
    "    weather[a] = {\n",
    "        'region': location_region,\n",
    "        'country': location_country,\n",
    "        'condition': current,\n",
    "        'temperature': temperature,\n",
    "        'timezone': timezone\n",
    "    }\n",
    "    \n",
    "while True:   \n",
    "    for city, info in weather.items():\n",
    "        print(f'The weather in {info[\"region\"]}, {info[\"country\"]} is currently {info[\"condition\"]}')\n",
    "        print(f'The temperature is {info[\"temperature\"]}°C')\n",
    "        local_time = datetime.now(pytz.timezone(info[\"timezone\"])).strftime('%Y-%m-%d %H:%M:%S')\n",
    "        print(f'Local time in {info[\"region\"]}, {info[\"country\"]}: {local_time}')\n",
    "    clear_output(True)\n",
    "\n",
    "    time.sleep(1)      \n",
    "   "
   ]
  }
 ],
 "metadata": {
  "kernelspec": {
   "display_name": "Python 3",
   "language": "python",
   "name": "python3"
  },
  "language_info": {
   "codemirror_mode": {
    "name": "ipython",
    "version": 3
   },
   "file_extension": ".py",
   "mimetype": "text/x-python",
   "name": "python",
   "nbconvert_exporter": "python",
   "pygments_lexer": "ipython3",
   "version": "3.12.8"
  }
 },
 "nbformat": 4,
 "nbformat_minor": 2
}
