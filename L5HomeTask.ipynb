{
 "cells": [
  {
   "cell_type": "markdown",
   "metadata": {},
   "source": [
    "HomeTask 5"
   ]
  },
  {
   "cell_type": "markdown",
   "metadata": {},
   "source": [
    "Q1. "
   ]
  },
  {
   "cell_type": "code",
   "execution_count": null,
   "metadata": {},
   "outputs": [],
   "source": [
    "# 1. Given a list of tuples where each tuple contains a name and a score, \n",
    "# create a new list that contains the names of students who scored above 80.\n",
    "# Example input: [('Mike', 75), ('Joe', 90), ('Beck', 85)]\n",
    "# Expected output: ['Joe', 'Beck']"
   ]
  },
  {
   "cell_type": "code",
   "execution_count": 10,
   "metadata": {},
   "outputs": [
    {
     "name": "stdout",
     "output_type": "stream",
     "text": [
      "['Joe', 'Back']\n"
     ]
    }
   ],
   "source": [
    "list1 = [('Mike', 75), ('Joe', 90), ('Back', 85)]\n",
    "list11 = [tup[0] for tup in list1 if tup[1]>80]\n",
    "print(list11)"
   ]
  },
  {
   "cell_type": "markdown",
   "metadata": {},
   "source": [
    "Q2."
   ]
  },
  {
   "cell_type": "code",
   "execution_count": null,
   "metadata": {},
   "outputs": [],
   "source": [
    "# 2. Given a tuple with several lists inside it, \n",
    "# write a function to return the list with the maximum sum of its elements.\n",
    "# Example input: ([1, 2], [3, 4], [5, 6, 7])\n",
    "# Expected output: [5, 6, 7]"
   ]
  },
  {
   "cell_type": "code",
   "execution_count": 14,
   "metadata": {},
   "outputs": [
    {
     "name": "stdout",
     "output_type": "stream",
     "text": [
      "[5, 6, 7]\n"
     ]
    }
   ],
   "source": [
    "tuple2 = ([1, 2], [3, 4], [5, 6, 7])\n",
    "def max_sum(tuple2):\n",
    "    return max(tuple2, key = sum) \n",
    "result = max_sum(tuple2) \n",
    "print(result)   "
   ]
  },
  {
   "cell_type": "markdown",
   "metadata": {},
   "source": [
    "Q3."
   ]
  },
  {
   "cell_type": "code",
   "execution_count": null,
   "metadata": {},
   "outputs": [],
   "source": [
    "# 3. Given a list of tuples with names and ages, \n",
    "# return a list of names where the age is greater than 30 and less than 50.\n",
    "# Example input: [('Mike', 25), ('Joe', 31), ('Beck', 40)]\n",
    "# Expected output: ['Joe', 'Beck']"
   ]
  },
  {
   "cell_type": "code",
   "execution_count": 15,
   "metadata": {},
   "outputs": [
    {
     "name": "stdout",
     "output_type": "stream",
     "text": [
      "['Joe', 'Beck']\n"
     ]
    }
   ],
   "source": [
    "list3 = [('Mike', 25), ('Joe', 31), ('Beck', 40)]\n",
    "list31 = [tup[0] for tup in list3 if 30 < tup[1]< 50]\n",
    "print(list31)"
   ]
  },
  {
   "cell_type": "markdown",
   "metadata": {},
   "source": [
    "Q4."
   ]
  },
  {
   "cell_type": "code",
   "execution_count": null,
   "metadata": {},
   "outputs": [],
   "source": [
    "# 4. Given a list of integers, \n",
    "# write a function to return a list of tuples where the first element is the number \n",
    "# and the second is 'Even' or 'Odd' depending on whether the number is even or odd.\n",
    "# Example input: [1, 2, 3, 4]\n",
    "# Expected output: [(1, 'Odd'), (2, 'Even'), (3, 'Odd'), (4, 'Even')]"
   ]
  },
  {
   "cell_type": "code",
   "execution_count": 21,
   "metadata": {},
   "outputs": [
    {
     "name": "stdout",
     "output_type": "stream",
     "text": [
      "[(1, 'Odd'), (2, 'Even'), (3, 'Odd'), (4, 'Even')]\n"
     ]
    }
   ],
   "source": [
    "list4 = [1, 2, 3, 4]\n",
    "def even_odd_ch(number):\n",
    "    result = []\n",
    "    for i in number:\n",
    "        if i % 2 == 0: \n",
    "            result.append((i, 'Even'))\n",
    "        else :\n",
    "            result.append((i, 'Odd'))\n",
    "    return result       \n",
    "print(even_odd_ch(list4))"
   ]
  },
  {
   "cell_type": "markdown",
   "metadata": {},
   "source": [
    "Q5."
   ]
  },
  {
   "cell_type": "code",
   "execution_count": null,
   "metadata": {},
   "outputs": [],
   "source": [
    "# 5. Given a list of tuples containing a string and an integer, \n",
    "# write a function that returns a tuple of the string with the largest length \n",
    "# and its corresponding integer. If two strings have the same length, \n",
    "# choose the one with the larger integer.\n",
    "# Example input: [('apple', 5), ('banana', 4), ('cherry', 6)]\n",
    "# Expected output: ('apple', 5)"
   ]
  },
  {
   "cell_type": "code",
   "execution_count": 22,
   "metadata": {},
   "outputs": [
    {
     "name": "stdout",
     "output_type": "stream",
     "text": [
      "('cherry', 6)\n"
     ]
    }
   ],
   "source": [
    "list5 = [('apple', 5), ('banana', 4), ('cherry', 6)]\n",
    "def tuple5(list5):\n",
    "    return max(list5, key = lambda x: (len(x[0]), x[1]))\n",
    "\n",
    "result = tuple5(list5)\n",
    "print(result)"
   ]
  },
  {
   "cell_type": "markdown",
   "metadata": {},
   "source": [
    "Q6."
   ]
  },
  {
   "cell_type": "code",
   "execution_count": null,
   "metadata": {},
   "outputs": [],
   "source": [
    "\n",
    "# 6. Given a list of tuples where each tuple contains a date (as a string in 'YYYY-MM-DD' format) and an event, \n",
    "# return the list of events in the order of the most recent dates.\n",
    "# Example input: [('2024-12-01', 'Event A'), ('2025-01-01', 'Event B')]\n",
    "# Expected output: [('2025-01-01', 'Event B'), ('2024-12-01', 'Event A')]"
   ]
  },
  {
   "cell_type": "code",
   "execution_count": 13,
   "metadata": {},
   "outputs": [
    {
     "name": "stdout",
     "output_type": "stream",
     "text": [
      "[('2025-01-01', 'Event B'), ('2024-12-01', 'Event A')]\n"
     ]
    }
   ],
   "source": [
    "from datetime import datetime\n",
    "\n",
    "def sorted_date(events):\n",
    "    return sorted(events, key=lambda x: datetime.strptime(x[0], '%Y-%m-%d'), reverse=True)\n",
    "\n",
    "list6 = [('2024-12-01', 'Event A'), ('2025-01-01', 'Event B')]\n",
    "result = sorted_date(list6)\n",
    "print(result) "
   ]
  },
  {
   "cell_type": "markdown",
   "metadata": {},
   "source": [
    "Q7."
   ]
  },
  {
   "cell_type": "code",
   "execution_count": null,
   "metadata": {},
   "outputs": [],
   "source": [
    "\n",
    "# 7. Given a list of tuples where each tuple contains a name and a score, \n",
    "# return the highest score and the corresponding name.\n",
    "# Example input: [('Mike', 75), ('Joe', 90), ('Beck', 85)]\n",
    "# Expected output: ('Joe', 90)"
   ]
  },
  {
   "cell_type": "code",
   "execution_count": 5,
   "metadata": {},
   "outputs": [
    {
     "name": "stdout",
     "output_type": "stream",
     "text": [
      "('Joe', 90)\n"
     ]
    }
   ],
   "source": [
    "list7= [('Mike', 75), ('Joe', 90), ('Beck', 85)]\n",
    "def tuple7(list7):\n",
    "    return max(list7, key = lambda x: x[1])\n",
    "\n",
    "result = tuple7(list7)\n",
    "print(result)"
   ]
  },
  {
   "cell_type": "markdown",
   "metadata": {},
   "source": [
    "Q8."
   ]
  },
  {
   "cell_type": "code",
   "execution_count": null,
   "metadata": {},
   "outputs": [],
   "source": [
    "\n",
    "# 8. Given a list of tuples where each tuple contains a product name and its price, \n",
    "# write a function to return a list of products whose price is between 50 and 100.\n",
    "# Example input: [('product1', 45), ('product2', 60), ('product3', 120)]\n",
    "# Expected output: [('product2', 60)]"
   ]
  },
  {
   "cell_type": "code",
   "execution_count": 7,
   "metadata": {},
   "outputs": [
    {
     "name": "stdout",
     "output_type": "stream",
     "text": [
      "[('product2', 60)]\n"
     ]
    }
   ],
   "source": [
    "list8 = [('product1', 45), ('product2', 60), ('product3', 120)]\n",
    "def list_pro(list8):\n",
    "    return [tup for tup in list8 if 50 < tup[1] < 100]\n",
    "\n",
    "result = list_pro(list8)\n",
    "print(result)"
   ]
  },
  {
   "cell_type": "markdown",
   "metadata": {},
   "source": [
    "Q9."
   ]
  },
  {
   "cell_type": "code",
   "execution_count": null,
   "metadata": {},
   "outputs": [],
   "source": [
    "\n",
    "# 9. Given a list of tuples where each tuple contains a person's name and their age, \n",
    "# return the name of the oldest person in the list.\n",
    "# Example input: [('Mike', 25), ('Joe', 31), ('Beck', 40)]\n",
    "# Expected output: 'Beck'"
   ]
  },
  {
   "cell_type": "code",
   "execution_count": 9,
   "metadata": {},
   "outputs": [
    {
     "name": "stdout",
     "output_type": "stream",
     "text": [
      "Beck\n"
     ]
    }
   ],
   "source": [
    "list9 = [('Mike', 25), ('Joe', 31), ('Beck', 40)]\n",
    "\n",
    "def oldest(list9):\n",
    "    oldest = max(list9, key=lambda x: x[1])\n",
    "    return oldest[0]  \n",
    "\n",
    "result = oldest(list9)\n",
    "print(result)"
   ]
  },
  {
   "cell_type": "markdown",
   "metadata": {},
   "source": [
    "Q10."
   ]
  },
  {
   "cell_type": "code",
   "execution_count": null,
   "metadata": {},
   "outputs": [],
   "source": [
    "# 10. Given a list of tuples containing a student's name and their grades in multiple subjects, \n",
    "# return the names of students who have an average grade greater than 80.\n",
    "# Example input: [('Mike', [85, 75, 90]), ('Joe', [70, 80, 60])]\n",
    "# Expected output: ['Mike']"
   ]
  },
  {
   "cell_type": "code",
   "execution_count": 11,
   "metadata": {},
   "outputs": [
    {
     "name": "stdout",
     "output_type": "stream",
     "text": [
      "['Mike']\n"
     ]
    }
   ],
   "source": [
    "def upper_B_S(list):\n",
    "    above_avg_s = []\n",
    "    \n",
    "    for name, grades in list:\n",
    "        avg_grade = sum(grades) / len(grades)  \n",
    "        if avg_grade > 80:  \n",
    "            above_avg_s.append(name)  \n",
    "\n",
    "    return above_avg_s\n",
    "\n",
    "list10 = [('Mike', [85, 75, 90]), ('Joe', [70, 80, 60])]\n",
    "result = upper_B_S(list10)\n",
    "print(result) "
   ]
  },
  {
   "cell_type": "code",
   "execution_count": 12,
   "metadata": {},
   "outputs": [
    {
     "name": "stdout",
     "output_type": "stream",
     "text": [
      "['Mike']\n"
     ]
    }
   ],
   "source": [
    "def st_above_avg(list):\n",
    "    return [name for name, grades in list if sum(grades) / len(grades) > 80]\n",
    "\n",
    "list10 = [('Mike', [85, 75, 90]), ('Joe', [70, 80, 60])]\n",
    "result = st_above_avg(list10)\n",
    "print(result)  "
   ]
  }
 ],
 "metadata": {
  "kernelspec": {
   "display_name": "Python 3",
   "language": "python",
   "name": "python3"
  },
  "language_info": {
   "codemirror_mode": {
    "name": "ipython",
    "version": 3
   },
   "file_extension": ".py",
   "mimetype": "text/x-python",
   "name": "python",
   "nbconvert_exporter": "python",
   "pygments_lexer": "ipython3",
   "version": "3.12.8"
  }
 },
 "nbformat": 4,
 "nbformat_minor": 2
}
