{
 "cells": [
  {
   "cell_type": "markdown",
   "metadata": {},
   "source": [
    "HomeTask in detail:\n",
    "\n",
    "1. Create a new database with a table named Roster that has three fields: Name, Species, and Age. The Name and Species columns should be text fields, and the Age column should be an integer field.\n",
    "\n",
    "2. Populate your new table with the following values:\n",
    "   - Benjamin Sisko | Human | 40\n",
    "   - Jadzia Dax | Trill | 30\n",
    "   - Kira Nerys | Bajoran | 29\n",
    "\n",
    "3. Update the Name of Jadzia Dax to be Ezri Dax.\n",
    "\n",
    "4. Display the Name and Age of everyone in the table classified as Bajoran."
   ]
  },
  {
   "cell_type": "code",
   "execution_count": null,
   "metadata": {},
   "outputs": [],
   "source": [
    "import pyodbc\n",
    "\n",
    "server = r'DESKTOP-BE28DQJ\\SQLEXPRESS'  \n",
    "database = 'master'    \n",
    "\n",
    "connection_string = f'DRIVER={{SQL Server}};SERVER={server};DATABASE={database};Trusted_Connection=yes;'\n",
    "\n",
    "connection = pyodbc.connect(connection_string)\n",
    "cursor = connection.cursor()\n",
    "\n",
    "cursor.execute(\"create database first_py_database\")\n",
    "connection.commit()\n",
    "\n",
    "connection.close()\n",
    "\n",
    "connection_string = f'DRIVER={{SQL Server}};SERVER={server};DATABASE=first_py_database;Trusted_Connection=yes;'\n",
    "connection = pyodbc.connect(connection_string)\n",
    "cursor = connection.cursor()\n",
    "\n",
    "cursor.execute('''create table Roster(\n",
    "    Name nvarchar(100),\n",
    "    Species nvarchar(100),\n",
    "    Age int)\n",
    "''')\n",
    "connection.commit()\n",
    "\n",
    "cursor.execute(\"insert into Roster (Name, Species, Age) values ('Benjamin Sisko', 'Human', 40)\")\n",
    "cursor.execute(\"insert into Roster (Name, Species, Age) values ('Jadzia Dax', 'Trill', 30)\")\n",
    "cursor.execute(\"insert into Roster (Name, Species, Age) values ('Kira Nerys', 'Bajoran', 29)\")\n",
    "\n",
    "connection.commit()\n",
    "connection.close()"
   ]
  },
  {
   "cell_type": "code",
   "execution_count": 3,
   "metadata": {},
   "outputs": [
    {
     "name": "stdout",
     "output_type": "stream",
     "text": [
      "Name\t\tSpecies\t\tAge\n",
      "--------------------------------\n",
      "Benjamin Sisko\tHuman\t40\n",
      "Jadzia Dax\tEzri Dax\t30\n",
      "Kira Nerys\tBajoran\t29\n"
     ]
    }
   ],
   "source": [
    "\n",
    "server = r'DESKTOP-BE28DQJ\\SQLEXPRESS'\n",
    "database = 'first_py_database' \n",
    "\n",
    "connection_string = f'DRIVER={{SQL Server}};SERVER={server};DATABASE={database};Trusted_Connection=yes;'\n",
    "\n",
    "connection = pyodbc.connect(connection_string)\n",
    "cursor = connection.cursor()\n",
    "\n",
    "cursor.execute(\"SELECT * FROM Roster\")\n",
    "\n",
    "rows = cursor.fetchall()\n",
    "\n",
    "print(\"Name\\t\\tSpecies\\t\\tAge\")\n",
    "print(\"--------------------------------\")\n",
    "\n",
    "for row in rows:\n",
    "    print(f\"{row.Name}\\t{row.Species}\\t{row.Age}\")\n",
    "\n",
    "connection.commit()"
   ]
  },
  {
   "cell_type": "code",
   "execution_count": 4,
   "metadata": {},
   "outputs": [
    {
     "name": "stdout",
     "output_type": "stream",
     "text": [
      "Name\t\tSpecies\t\tAge\n",
      "------------------------------------\n",
      "Benjamin Sisko\tHuman\t40\n",
      "Jadzia Dax\tEzri Dax\t30\n",
      "Kira Nerys\tBajoran\t29\n"
     ]
    }
   ],
   "source": [
    "cursor.execute(\"update Roster set Species = 'Ezri Dax' where Name = 'Jadzia Dax'\")\n",
    "connection.commit()\n",
    "\n",
    "cursor.execute(\"select * from Roster\")\n",
    "rows = cursor.fetchall()\n",
    "\n",
    "print(\"Name\\t\\tSpecies\\t\\tAge\")\n",
    "print(\"------------------------------------\")\n",
    "for row in rows:\n",
    "    print(f\"{row.Name}\\t{row.Species}\\t{row.Age}\")\n",
    "\n",
    "connection.commit()"
   ]
  },
  {
   "cell_type": "code",
   "execution_count": 5,
   "metadata": {},
   "outputs": [
    {
     "name": "stdout",
     "output_type": "stream",
     "text": [
      "Name\t\tAge\n",
      "-------------------\n",
      "Kira Nerys\t29\n"
     ]
    }
   ],
   "source": [
    "\n",
    "cursor.execute(\"select Name, Age from Roster where Species = 'Bajoran'\")\n",
    "\n",
    "rows = cursor.fetchall()\n",
    "\n",
    "print(\"Name\\t\\tAge\")\n",
    "print(\"-------------------\")\n",
    "\n",
    "for row in rows:\n",
    "    print(f\"{row.Name}\\t{row.Age}\")\n",
    "\n",
    "connection.commit()\n",
    "connection.close()"
   ]
  }
 ],
 "metadata": {
  "kernelspec": {
   "display_name": "Python 3",
   "language": "python",
   "name": "python3"
  },
  "language_info": {
   "codemirror_mode": {
    "name": "ipython",
    "version": 3
   },
   "file_extension": ".py",
   "mimetype": "text/x-python",
   "name": "python",
   "nbconvert_exporter": "python",
   "pygments_lexer": "ipython3",
   "version": "3.12.8"
  }
 },
 "nbformat": 4,
 "nbformat_minor": 2
}
