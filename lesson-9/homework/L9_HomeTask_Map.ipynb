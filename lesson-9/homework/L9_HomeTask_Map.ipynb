{
 "cells": [
  {
   "cell_type": "markdown",
   "metadata": {},
   "source": [
    "W3resource_FunctionalProgramming_Map\n",
    "Python Map - 17 Exercises, Practice, Solution"
   ]
  },
  {
   "cell_type": "code",
   "execution_count": 2,
   "metadata": {},
   "outputs": [
    {
     "data": {
      "text/plain": [
       "[3, 6, 9, 12, 15, 18, 21]"
      ]
     },
     "execution_count": 2,
     "metadata": {},
     "output_type": "execute_result"
    }
   ],
   "source": [
    "# 1. Write a Python program to triple all numbers in a given list of integers. Use Python map.\n",
    "\n",
    "list1 = [1, 2, 3, 4, 5, 6, 7]\n",
    "\n",
    "list1_1 = list(map(lambda x: 3*x, list1))\n",
    "list1_1"
   ]
  },
  {
   "cell_type": "code",
   "execution_count": 3,
   "metadata": {},
   "outputs": [
    {
     "data": {
      "text/plain": [
       "[3, 16, 25, 20]"
      ]
     },
     "execution_count": 3,
     "metadata": {},
     "output_type": "execute_result"
    }
   ],
   "source": [
    "# 2. Write a Python program to add three given lists using Python map and lambda.\n",
    "\n",
    "list2_1 = [1, 5, 14, -4]\n",
    "list2_2 = [3, -9, 11, 8]\n",
    "list2_3 = [-1, 20, 0, 16]\n",
    "\n",
    "list2 = list(map(lambda x, y, z: x+y+z, list2_1, list2_2, list2_3))\n",
    "list2"
   ]
  },
  {
   "cell_type": "code",
   "execution_count": 4,
   "metadata": {},
   "outputs": [
    {
     "name": "stdout",
     "output_type": "stream",
     "text": [
      "[['h', 'e', 'l', 'l', 'o'], ['w', 'o', 'r', 'l', 'd'], ['p', 'y', 't', 'h', 'o', 'n']]\n"
     ]
    }
   ],
   "source": [
    "# 3. Write a Python program to listify the list of given strings individually using Python map.\n",
    "\n",
    "strings = [\"hello\", \"world\", \"python\"]\n",
    "\n",
    "listified = list(map(list, strings))\n",
    "\n",
    "print(listified)"
   ]
  },
  {
   "cell_type": "code",
   "execution_count": 10,
   "metadata": {},
   "outputs": [
    {
     "data": {
      "text/plain": [
       "[1, 7, 25, -64, 10000]"
      ]
     },
     "execution_count": 10,
     "metadata": {},
     "output_type": "execute_result"
    }
   ],
   "source": [
    "# 4. Write a Python program to create a list containing the power of said number in bases raised to \n",
    "# the corresponding number in the index using Python map.\n",
    "\n",
    "number = [2, 7, 5, -4, 10]\n",
    "\n",
    "list4 = list(map(lambda x: x**number.index(x), number))\n",
    "list4"
   ]
  },
  {
   "cell_type": "code",
   "execution_count": 11,
   "metadata": {},
   "outputs": [
    {
     "data": {
      "text/plain": [
       "[4, 49, 25, 16, 100]"
      ]
     },
     "execution_count": 11,
     "metadata": {},
     "output_type": "execute_result"
    }
   ],
   "source": [
    "# 5. Write a Python program to square the elements of a list using the map() function.\n",
    "\n",
    "number = [2, 7, 5, -4, 10]\n",
    "\n",
    "list5 = list(map(lambda x: x**2, number))\n",
    "list5"
   ]
  },
  {
   "cell_type": "code",
   "execution_count": 12,
   "metadata": {},
   "outputs": [
    {
     "name": "stdout",
     "output_type": "stream",
     "text": [
      "{('O', 'o'), ('U', 'u'), ('I', 'i'), ('B', 'b'), ('A', 'a'), ('E', 'e'), ('F', 'f')}\n"
     ]
    }
   ],
   "source": [
    "# 6. Write a Python program to convert all the characters into uppercase and lowercase and \n",
    "# eliminate duplicate letters from a given sequence. Use the map() function.\n",
    "\n",
    "def change_cases(s):\n",
    "    return str(s).upper(), str(s).lower()\n",
    "\n",
    "chrars = {'a', 'b', 'E', 'f', 'a', 'i', 'o', 'U', 'a'}\n",
    "\n",
    "result = map(change_cases, chrars)\n",
    "print(set(result))"
   ]
  },
  {
   "cell_type": "code",
   "execution_count": 16,
   "metadata": {},
   "outputs": [
    {
     "name": "stdout",
     "output_type": "stream",
     "text": [
      "[(12, 2), (11, 3), (13, -1), (15, 1), (14, 6)]\n"
     ]
    }
   ],
   "source": [
    "# 7. Write a Python program to add two given lists and find the difference between them. \n",
    "# Use the map() function.\n",
    "\n",
    "list7_1 = [7, 7, 6, 8, 10]\n",
    "list7_2 = [5, 4, 7, 7, 4]\n",
    "\n",
    "def add_diff(a, b):\n",
    "    return list(map(lambda x, y: (x+y, x-y), a, b))\n",
    "\n",
    "print(add_diff(list7_1, list7_2))\n"
   ]
  },
  {
   "cell_type": "code",
   "execution_count": 3,
   "metadata": {},
   "outputs": [
    {
     "name": "stdout",
     "output_type": "stream",
     "text": [
      "['1', '2', '3', '4', '5', '6', '7']\n",
      "['1', '2', '3', '4', '5', '6', '7']\n"
     ]
    }
   ],
   "source": [
    "# 23rd Jan 2025\n",
    "# 8. Write a Python program to convert a given list of integers and a tuple of integers in a list of strings.\n",
    "\n",
    "list8 = [1, 2, 3, 4, 5, 6, 7]\n",
    "tuple8 = (1, 2, 3, 4, 5, 6, 7) \n",
    "\n",
    "list8_1 = list(map(lambda x: str(x), list8))\n",
    "print(list8_1)\n",
    "tuple8_1 = list(map(lambda x: str(x), list(tuple8)))\n",
    "print(tuple8_1)"
   ]
  },
  {
   "cell_type": "code",
   "execution_count": 5,
   "metadata": {},
   "outputs": [
    {
     "name": "stdout",
     "output_type": "stream",
     "text": [
      "[1, 2, 3, 4, 5, 6, 7]\n",
      "[1, 2, 3]\n"
     ]
    }
   ],
   "source": [
    "# 9. Write a Python program to create a new list taking specific elements from a tuple and convert \n",
    "# a string value to an integer.\n",
    "\n",
    "tuple9 = ('1', '2', '3', '4', '5', '6', '7')\n",
    "list9 = list(map(lambda x: int(x), list(tuple9)))\n",
    "print(list9)\n",
    "\n",
    "specific_elements = tuple9[:3]  \n",
    "list9 = list(map(lambda x: int(x), specific_elements))\n",
    "print(list9)"
   ]
  },
  {
   "cell_type": "code",
   "execution_count": 7,
   "metadata": {},
   "outputs": [
    {
     "name": "stdout",
     "output_type": "stream",
     "text": [
      "Fibonacci numbers: [0, 1, 1, 2, 3, 5, 8, 13]\n",
      "Squares of Fibonacci numbers: [0, 1, 1, 4, 9, 25, 64, 169]\n"
     ]
    }
   ],
   "source": [
    "# 10. Write a Python program to compute the square of the first N Fibonacci numbers,\n",
    "#  using the map function and generate a list of the numbers.\n",
    "\n",
    "def fibonacci(n):\n",
    "    fib_sequence = [0, 1]\n",
    "    for i in range(2, n):\n",
    "        fib_sequence.append(fib_sequence[i-1] + fib_sequence[i-2])\n",
    "    return fib_sequence[:n]\n",
    "\n",
    "N = 8 \n",
    "fib_numbers = fibonacci(N)\n",
    "squared_fib_numbers = list(map(lambda x: x**2, fib_numbers))\n",
    "\n",
    "print(\"Fibonacci numbers:\", fib_numbers)\n",
    "print(\"Squares of Fibonacci numbers:\", squared_fib_numbers)"
   ]
  },
  {
   "cell_type": "code",
   "execution_count": 9,
   "metadata": {},
   "outputs": [
    {
     "name": "stdout",
     "output_type": "stream",
     "text": [
      "36\n"
     ]
    }
   ],
   "source": [
    "# 11. Write a Python program to compute the sum of elements of an array of integers. Use the map() function.\n",
    "\n",
    "list11 = [1, 2, 3, 4, 5, 6, 7, 8]\n",
    "\n",
    "sum11 = sum(map(lambda x: x, list11))\n",
    "print(sum11)"
   ]
  },
  {
   "cell_type": "code",
   "execution_count": 10,
   "metadata": {},
   "outputs": [
    {
     "name": "stdout",
     "output_type": "stream",
     "text": [
      "Positive Ratio: 0.44\n",
      "Negative Ratio: 0.33\n",
      "Zero Ratio: 0.22\n"
     ]
    }
   ],
   "source": [
    "# 12. Write a Python program to find the ratio of positive numbers, negative numbers \n",
    "# and zeroes in an array of integers.\n",
    "\n",
    "def calculate_ratios(numbers):\n",
    "    counts = list(map(lambda x: 1 if x > 0 else (0 if x == 0 else -1), numbers))\n",
    "\n",
    "    positive_count = counts.count(1)\n",
    "    negative_count = counts.count(-1)\n",
    "    zero_count = counts.count(0)\n",
    "\n",
    "    total_count = len(numbers)\n",
    "\n",
    "    if total_count == 0:\n",
    "        return (0, 0, 0) \n",
    "\n",
    "    positive_ratio = positive_count / total_count\n",
    "    negative_ratio = negative_count / total_count\n",
    "    zero_ratio = zero_count / total_count\n",
    "    return (positive_ratio, negative_ratio, zero_ratio)\n",
    "\n",
    "array_of_integers = [1, -2, 3, 0, -4, 5, 0, 6, -7]\n",
    "ratios = calculate_ratios(array_of_integers)\n",
    "print(f\"Positive Ratio: {ratios[0]:.2f}\")\n",
    "print(f\"Negative Ratio: {ratios[1]:.2f}\")\n",
    "print(f\"Zero Ratio: {ratios[2]:.2f}\")"
   ]
  },
  {
   "cell_type": "code",
   "execution_count": 15,
   "metadata": {},
   "outputs": [
    {
     "name": "stdout",
     "output_type": "stream",
     "text": [
      "Original lists:\n",
      "[1, 2, 3, 4, 5, 6, 7, 8]\n",
      "[2, 2, 3, 1, 2, 6, 7, 9]\n",
      "\n",
      "\n",
      "Number of same pair of the said two given lists:\n",
      "4\n"
     ]
    }
   ],
   "source": [
    "# 13. Write a Python program to count the same pair in two given lists. use map() function.\n",
    "from operator import eq\n",
    "\n",
    "def count_same_pair(nums1, nums2):\n",
    "    result = sum(map(eq, nums1, nums2))\n",
    "    return result\n",
    "\n",
    "nums1 = [1, 2, 3, 4, 5, 6, 7, 8]\n",
    "nums2 = [2, 2, 3, 1, 2, 6, 7, 9]\n",
    "\n",
    "print(\"Original lists:\")\n",
    "print(nums1)\n",
    "print(nums2)\n",
    "\n",
    "print(\"\\n\")\n",
    "\n",
    "print(\"Number of same pair of the said two given lists:\")\n",
    "print(count_same_pair(nums1, nums2))"
   ]
  },
  {
   "cell_type": "code",
   "execution_count": 16,
   "metadata": {},
   "outputs": [
    {
     "name": "stdout",
     "output_type": "stream",
     "text": [
      "Original lists:\n",
      "[1, 2, 7, 8, 3, 7]\n",
      "[4, 3, 8, 9, 4, 3, 8, 9]\n",
      "\n",
      "\n",
      "Interleave two given lists into another list randomly:\n",
      "[4, 1, 2, 3, 8, 7, 9, 8, 3, 4, 7, 3, 8, 9]\n"
     ]
    }
   ],
   "source": [
    "# 14. Write a Python program to interleave two lists into another list randomly. Use the map() function.\n",
    "\n",
    "import random\n",
    "\n",
    "def randomly_interleave(nums1, nums2):\n",
    "    iterators = [iter(nums1)] * len(nums1) + [iter(nums2)] * len(nums2)\n",
    "    result = list(map(next, random.sample(iterators, len(nums1) + len(nums2))))\n",
    "    return result\n",
    "\n",
    "nums1 = [1, 2, 7, 8, 3, 7]\n",
    "nums2 = [4, 3, 8, 9, 4, 3, 8, 9]\n",
    "\n",
    "print(\"Original lists:\")\n",
    "print(nums1)\n",
    "print(nums2)\n",
    "\n",
    "print(\"\\n\")\n",
    "\n",
    "print(\"Interleave two given lists into another list randomly:\")\n",
    "\n",
    "print(randomly_interleave(nums1, nums2))"
   ]
  },
  {
   "cell_type": "code",
   "execution_count": 17,
   "metadata": {},
   "outputs": [
    {
     "name": "stdout",
     "output_type": "stream",
     "text": [
      "Original dictionary of lists:\n",
      "{'Science': [88, 89, 62, 95], 'Language': [77, 78, 84, 80]}\n",
      "\n",
      "Split said dictionary of lists into list of dictionaries:\n",
      "[{'Science': 88, 'Language': 77}, {'Science': 89, 'Language': 78}, {'Science': 62, 'Language': 84}, {'Science': 95, 'Language': 80}]\n"
     ]
    }
   ],
   "source": [
    "# 15. Write a Python program to split a given dictionary of lists into list of dictionaries using the map function.\n",
    "\n",
    "def split_dict_of_lists(input_dict):\n",
    "    length = len(next(iter(input_dict.values())))\n",
    "\n",
    "    result = list(map(lambda i: {key: value[i] for key, value in input_dict.items()}, range(length)))\n",
    "    return result\n",
    "\n",
    "input_dict = {\n",
    "    'Science': [88, 89, 62, 95],\n",
    "    'Language': [77, 78, 84, 80]\n",
    "}\n",
    "\n",
    "print(\"Original dictionary of lists:\")\n",
    "print(input_dict)\n",
    "\n",
    "output = split_dict_of_lists(input_dict)\n",
    "\n",
    "print(\"\\nSplit said dictionary of lists into list of dictionaries:\")\n",
    "print(output)"
   ]
  },
  {
   "cell_type": "code",
   "execution_count": 18,
   "metadata": {},
   "outputs": [
    {
     "name": "stdout",
     "output_type": "stream",
     "text": [
      "Original list of strings:\n",
      "['hello', 'world', 'python', 'map']\n",
      "\n",
      "Converted list of lists:\n",
      "[['h', 'e', 'l', 'l', 'o'], ['w', 'o', 'r', 'l', 'd'], ['p', 'y', 't', 'h', 'o', 'n'], ['m', 'a', 'p']]\n"
     ]
    }
   ],
   "source": [
    "# 16. Write a Python program to convert a given list of strings into a list of lists using the map function.\n",
    "\n",
    "input_list = [\"hello\", \"world\", \"python\", \"map\"]\n",
    "\n",
    "output = list(map(list, input_list))\n",
    "\n",
    "print(\"Original list of strings:\")\n",
    "print(input_list)\n",
    "print(\"\\nConverted list of lists:\")\n",
    "print(output)"
   ]
  },
  {
   "cell_type": "code",
   "execution_count": 21,
   "metadata": {},
   "outputs": [
    {
     "name": "stdout",
     "output_type": "stream",
     "text": [
      "Original list of tuples:\n",
      "[('apple', 'juice'), ('noel', 'date'), ('elder', 'brother'), ('money', 'honeydew')]\n",
      "\n",
      "Converted list of strings:\n",
      "['apple juice', 'noel date', 'elder brother', 'money honeydew']\n"
     ]
    }
   ],
   "source": [
    "# 17. Write a Python program to convert a given list of tuples to a list of strings using the map function.\n",
    "\n",
    "tuples_list = [(\"apple\", \"juice\"), (\"noel\", \"date\"), (\"elder\", \"brother\"), (\"money\", \"honeydew\")]\n",
    "\n",
    "strings_list = list(map(lambda t: ' '.join(t), tuples_list))\n",
    "\n",
    "print(\"Original list of tuples:\")\n",
    "print(tuples_list)\n",
    "print(\"\\nConverted list of strings:\")\n",
    "print(strings_list)"
   ]
  }
 ],
 "metadata": {
  "kernelspec": {
   "display_name": "Python 3",
   "language": "python",
   "name": "python3"
  },
  "language_info": {
   "codemirror_mode": {
    "name": "ipython",
    "version": 3
   },
   "file_extension": ".py",
   "mimetype": "text/x-python",
   "name": "python",
   "nbconvert_exporter": "python",
   "pygments_lexer": "ipython3",
   "version": "3.12.8"
  }
 },
 "nbformat": 4,
 "nbformat_minor": 2
}
