{
 "cells": [
  {
   "cell_type": "markdown",
   "metadata": {},
   "source": [
    "Lesson 7 HomeTask"
   ]
  },
  {
   "cell_type": "markdown",
   "metadata": {},
   "source": [
    "w3school /Python Lambda - 52 Exercises"
   ]
  },
  {
   "cell_type": "code",
   "execution_count": 1,
   "metadata": {},
   "outputs": [
    {
     "name": "stdout",
     "output_type": "stream",
     "text": [
      "25\n",
      "48\n"
     ]
    }
   ],
   "source": [
    "# 1. Write a Python program to create a lambda function that adds 15 to a given number passed in as an argument, \n",
    "# also create a lambda function that multiplies argument x with argument y and prints the result.\n",
    "# Sample Output:\n",
    "# 25\n",
    "# 48\n",
    "\n",
    "r = lambda a: a + 15\n",
    "\n",
    "print(r(10))\n",
    "\n",
    "r = lambda x, y: x * y\n",
    "\n",
    "print(r(12, 4))"
   ]
  },
  {
   "cell_type": "code",
   "execution_count": 2,
   "metadata": {},
   "outputs": [
    {
     "name": "stdout",
     "output_type": "stream",
     "text": [
      "Double the number of 15 = 30\n",
      "Triple the number of 15 = 45\n",
      "Quadruple the number of 15 = 60\n",
      "Quintuple the number 15 = 75\n"
     ]
    }
   ],
   "source": [
    "# 2. Write a Python program to create a function that takes one argument, and that argument will be \n",
    "# multiplied with an unknown given number.\n",
    "# Sample Output:\n",
    "# Double the number of 15 = 30\n",
    "# Triple the number of 15 = 45\n",
    "# Quadruple the number of 15 = 60\n",
    "# Quintuple the number 15 = 75\n",
    "\n",
    "def multipliar(n):\n",
    "    return lambda x: x * n\n",
    "\n",
    "result = multipliar(2)\n",
    "print(\"Double the number of 15 =\", result(15))\n",
    "\n",
    "result = multipliar(3)\n",
    "print(\"Triple the number of 15 =\", result(15))\n",
    "\n",
    "result = multipliar(4)\n",
    "print(\"Quadruple the number of 15 =\", result(15))\n",
    "\n",
    "result = multipliar(5)\n",
    "print(\"Quintuple the number 15 =\", result(15))"
   ]
  },
  {
   "cell_type": "code",
   "execution_count": 5,
   "metadata": {},
   "outputs": [
    {
     "name": "stdout",
     "output_type": "stream",
     "text": [
      "[('Social sciences', 82), ('English', 88), ('Science', 90), ('Maths', 97)]\n"
     ]
    }
   ],
   "source": [
    "# 3. Write a Python program to sort a list of tuples using Lambda.\n",
    "# Original list of tuples:\n",
    "# [('English', 88), ('Science', 90), ('Maths', 97), ('Social sciences', 82)]\n",
    "# Sorting the List of Tuples:\n",
    "# [('Social sciences', 82), ('English', 88), ('Science', 90), ('Maths', 97)]\n",
    "list3 = [('English', 88), ('Science', 90), ('Maths', 97), ('Social sciences', 82)]\n",
    "list3.sort(key = lambda x: x[1])\n",
    "print((list3)) "
   ]
  },
  {
   "cell_type": "code",
   "execution_count": 11,
   "metadata": {},
   "outputs": [
    {
     "data": {
      "text/plain": [
       "[{'make': 'Nokia', 'model': 216, 'color': 'Black'},\n",
       " {'make': 'Samsung', 'model': 7, 'color': 'Blue'},\n",
       " {'make': 'Mi Max', 'model': '2', 'color': 'Gold'}]"
      ]
     },
     "execution_count": 11,
     "metadata": {},
     "output_type": "execute_result"
    }
   ],
   "source": [
    "# 4. Write a Python program to sort a list of dictionaries using Lambda.\n",
    "# Original list of dictionaries :\n",
    "# [{'make': 'Nokia', 'model': 216, 'color': 'Black'}, {'make': 'Mi Max', 'model': '2', 'color': 'Gold'}, {'make': 'Samsung', 'model': 7, 'color': 'Blue'}]\n",
    "# Sorting the List of dictionaries :\n",
    "# [{'make': 'Nokia', 'model': 216, 'color': 'Black'}, {'make': 'Samsung', 'model': 7, 'color': 'Blue'}, {'make': 'Mi Max', 'model': '2', 'color': 'Gold'}]\n",
    "\n",
    "list4 = [{'make': 'Nokia', 'model': 216, 'color': 'Black'}, {'make': 'Mi Max', 'model': '2', 'color': 'Gold'}, {'make': 'Samsung', 'model': 7, 'color': 'Blue'}]\n",
    "list41 = sorted(list4, key = lambda x: x['color'])\n",
    "list41\n",
    "\n"
   ]
  },
  {
   "cell_type": "code",
   "execution_count": 15,
   "metadata": {},
   "outputs": [
    {
     "name": "stdout",
     "output_type": "stream",
     "text": [
      "Even numbers from the said list: [2, 4, 6, 8, 10]\n",
      "Odd numbers from the said list: [1, 3, 5, 7, 9]\n"
     ]
    }
   ],
   "source": [
    "# 5. Write a Python program to filter a list of integers using Lambda.\n",
    "# Original list of integers:\n",
    "# [1, 2, 3, 4, 5, 6, 7, 8, 9, 10]\n",
    "# Even numbers from the said list:\n",
    "# [2, 4, 6, 8, 10]\n",
    "# Odd numbers from the said list:\n",
    "# [1, 3, 5, 7, 9]\n",
    "\n",
    "list5 = [1, 2, 3, 4, 5, 6, 7, 8, 9, 10]\n",
    "\n",
    "even_numbers = list(filter(lambda x: x % 2 == 0, list5))\n",
    "\n",
    "odd_numbers = list(filter(lambda x: x % 2 != 0, list5))\n",
    "\n",
    "print('Even numbers from the said list:', even_numbers)\n",
    "print('Odd numbers from the said list:', odd_numbers)\n"
   ]
  },
  {
   "cell_type": "code",
   "execution_count": 18,
   "metadata": {},
   "outputs": [
    {
     "name": "stdout",
     "output_type": "stream",
     "text": [
      "Square every number of the said list:  [1, 4, 9, 16, 25, 36, 49, 64, 81, 100]\n",
      "Cube every number of the said list:  [1, 8, 27, 64, 125, 216, 343, 512, 729, 1000]\n"
     ]
    }
   ],
   "source": [
    "# 6. Write a Python program to square and cube every number in a given list of integers using Lambda.\n",
    "# Original list of integers:\n",
    "# [1, 2, 3, 4, 5, 6, 7, 8, 9, 10]\n",
    "# Square every number of the said list:\n",
    "# [1, 4, 9, 16, 25, 36, 49, 64, 81, 100]\n",
    "# Cube every number of the said list:\n",
    "# [1, 8, 27, 64, 125, 216, 343, 512, 729, 1000]\n",
    "\n",
    "list6 = [1, 2, 3, 4, 5, 6, 7, 8, 9, 10]\n",
    "\n",
    "sqrt_num = list(map(lambda x: x**2 , list6))\n",
    "\n",
    "cube_num = list(map(lambda x: x**3, list6))\n",
    "\n",
    "print(\"Square every number of the said list: \", sqrt_num)\n",
    "print(\"Cube every number of the said list: \", cube_num)"
   ]
  },
  {
   "cell_type": "code",
   "execution_count": 19,
   "metadata": {},
   "outputs": [
    {
     "name": "stdout",
     "output_type": "stream",
     "text": [
      "True\n",
      "False\n"
     ]
    }
   ],
   "source": [
    "# 7. Write a Python program to find if a given string starts with a given character using Lambda.\n",
    "# Sample Output:\n",
    "# True\n",
    "# False\n",
    "\n",
    "def starts_with_char(string, char):\n",
    "    check = lambda s, c: s.startswith(c)\n",
    "    return check(string, char)\n",
    "\n",
    "string1 = \"Hello, World!\"\n",
    "char1 = \"H\"\n",
    "string2 = \"Goodbye, World!\"\n",
    "char2 = \"H\"\n",
    "\n",
    "print(starts_with_char(string1, char1))  \n",
    "print(starts_with_char(string2, char2)) "
   ]
  },
  {
   "cell_type": "code",
   "execution_count": 21,
   "metadata": {},
   "outputs": [
    {
     "name": "stdout",
     "output_type": "stream",
     "text": [
      "2025-01-19 17:10:18.981013\n",
      "2025\n",
      "1\n",
      "19\n",
      "17:10:18.981013\n"
     ]
    }
   ],
   "source": [
    "# 8. Write a Python program to extract year, month, date and time using Lambda.\n",
    "# Sample Output:\n",
    "# 2020-01-15 09:03:32.744178\n",
    "# 2020\n",
    "# 1\n",
    "# 15\n",
    "# 09:03:32.744178\n",
    "\n",
    "from datetime import datetime\n",
    "\n",
    "now = datetime.now()\n",
    "\n",
    "extract_year = lambda d: d.year\n",
    "extract_month = lambda d: d.month\n",
    "extract_day = lambda d: d.day\n",
    "extract_time = lambda d: d.time()\n",
    "\n",
    "print(now)                    \n",
    "print(extract_year(now))      \n",
    "print(extract_month(now))     \n",
    "print(extract_day(now))       \n",
    "print(extract_time(now))      "
   ]
  },
  {
   "cell_type": "code",
   "execution_count": 6,
   "metadata": {},
   "outputs": [
    {
     "name": "stdout",
     "output_type": "stream",
     "text": [
      "True\n",
      "False\n",
      "False\n"
     ]
    }
   ],
   "source": [
    "# 9. Write a Python program to check whether a given string is a number or not using Lambda.\n",
    "\n",
    "number9 = lambda x: x.isdigit()  \n",
    "\n",
    "print(number9(\"12345\"))  #\n",
    "print(number9(\"12.345\"))  \n",
    "print(number9(\"abc123\"))"
   ]
  },
  {
   "cell_type": "code",
   "execution_count": 12,
   "metadata": {},
   "outputs": [
    {
     "name": "stdout",
     "output_type": "stream",
     "text": [
      "Fibonacci series up to 2: [0, 1]\n",
      "Fibonacci series up to 5: [0, 1, 1, 2, 3]\n",
      "Fibonacci series up to 6: [0, 1, 1, 2, 3, 5]\n",
      "Fibonacci series up to 9: [0, 1, 1, 2, 3, 5, 8, 13, 21]\n"
     ]
    }
   ],
   "source": [
    "# 10. Write a Python program to create Fibonacci series up to n using Lambda.\n",
    "# Fibonacci series upto 2:\n",
    "# [0, 1]\n",
    "# Fibonacci series upto 5:\n",
    "# [0, 1, 1, 2, 3]\n",
    "# Fibonacci series upto 6:\n",
    "# [0, 1, 1, 2, 3, 5]\n",
    "# Fibonacci series upto 9:\n",
    "# [0, 1, 1, 2, 3, 5, 8, 13, 21]\n",
    "\n",
    "def fibonacci(n):\n",
    "    result = []\n",
    "    \n",
    "    next_fib = lambda a, b: a + b\n",
    "    \n",
    "    a, b = 0, 1\n",
    "    \n",
    "    for _ in range(n):\n",
    "        result.append(a) \n",
    "        a, b = b, next_fib(a, b) \n",
    "\n",
    "    return result\n",
    "\n",
    "print(\"Fibonacci series up to 2:\", fibonacci(2))  \n",
    "print(\"Fibonacci series up to 5:\", fibonacci(5))  \n",
    "print(\"Fibonacci series up to 6:\", fibonacci(6)) \n",
    "print(\"Fibonacci series up to 9:\", fibonacci(9))  "
   ]
  },
  {
   "cell_type": "code",
   "execution_count": 15,
   "metadata": {},
   "outputs": [
    {
     "name": "stdout",
     "output_type": "stream",
     "text": [
      "Intersection of the said arrays: [1, 2, 8, 9]\n"
     ]
    }
   ],
   "source": [
    "# 11. Write a  Python program to find the intersection of two given arrays using Lambda.\n",
    "# Original arrays:\n",
    "# [1, 2, 3, 5, 7, 8, 9, 10]\n",
    "# [1, 2, 4, 8, 9]\n",
    "# Intersection of the said arrays: [1, 2, 8, 9]\n",
    "\n",
    "list11 = [1, 2, 3, 5, 7, 8, 9, 10]\n",
    "list111 = [1, 2, 4, 8, 9]\n",
    "\n",
    "intersection = list(filter(lambda x: x in list11, list111))\n",
    "\n",
    "print(\"Intersection of the said arrays:\", intersection)"
   ]
  },
  {
   "cell_type": "code",
   "execution_count": 30,
   "metadata": {},
   "outputs": [
    {
     "name": "stdout",
     "output_type": "stream",
     "text": [
      "Rearranged array: [2, 5, 7, 8, 9, -10, -3, -1]\n"
     ]
    }
   ],
   "source": [
    "# 12. Write a Python program to rearrange positive and negative numbers in a given array using Lambda.\n",
    "# Original arrays:\n",
    "# [-1, 2, -3, 5, 7, 8, 9, -10]\n",
    "# Rearrange positive and negative numbers of the said array:\n",
    "# [2, 5, 7, 8, 9, -10, -3, -1]\n",
    "\n",
    "list12 = [-1, 2, -3, 5, 7, 8, 9, -10]\n",
    "\n",
    "list12_rearranged = sorted(list12, key=lambda x: (x < 0, x))\n",
    "\n",
    "print(\"Rearranged array:\", list12_rearranged)"
   ]
  },
  {
   "cell_type": "code",
   "execution_count": 37,
   "metadata": {},
   "outputs": [
    {
     "name": "stdout",
     "output_type": "stream",
     "text": [
      "Number of even numbers in the above array: 3\n",
      "Number of odd numbers in the above array: 5\n"
     ]
    }
   ],
   "source": [
    "# 13. Write a Python program to count the even and odd numbers in a given array of integers using Lambda.\n",
    "# Original arrays:\n",
    "# [1, 2, 3, 5, 7, 8, 9, 10]\n",
    "# Number of even numbers in the above array: 3\n",
    "# Number of odd numbers in the above array: 5\n",
    "\n",
    "list13 = [1, 2, 3, 5, 7, 8, 9, 10]\n",
    "count_even = len(list(filter(lambda x: x%2 ==0, list13)))\n",
    "count_odd = len(list(filter(lambda x: x%2 !=0, list13)))\n",
    "\n",
    "print(\"Number of even numbers in the above array:\", count_even)\n",
    "print(\"Number of odd numbers in the above array:\", count_odd)"
   ]
  },
  {
   "cell_type": "code",
   "execution_count": 38,
   "metadata": {},
   "outputs": [
    {
     "data": {
      "text/plain": [
       "['Monday', 'Friday', 'Sunday']"
      ]
     },
     "execution_count": 38,
     "metadata": {},
     "output_type": "execute_result"
    }
   ],
   "source": [
    "# 14. Write a Python program to filter a given list to determine if the values in the list have a length of 6 using Lambda.\n",
    "# Sample Output:\n",
    "# Monday\n",
    "# Friday\n",
    "# Sunday\n",
    "\n",
    "days = [\"Monday\", \"Tuesday\", \"Wednesday\", \"Thursday\", \"Friday\", \"Saturday\", \"Sunday\"]\n",
    "\n",
    "list14 = list(filter(lambda x: len(x)==6, days))\n",
    "list14"
   ]
  },
  {
   "cell_type": "code",
   "execution_count": 39,
   "metadata": {},
   "outputs": [
    {
     "name": "stdout",
     "output_type": "stream",
     "text": [
      "Result after adding the two lists: [5, 7, 9]\n"
     ]
    }
   ],
   "source": [
    "# 15. Write a Python program to add two given lists using map and lambda.\n",
    "# Original list:\n",
    "# [1, 2, 3]\n",
    "# [4, 5, 6]\n",
    "# Result: after adding two list\n",
    "# [5, 7, 9]\n",
    "\n",
    "list1 = [1, 2, 3]\n",
    "list2 = [4, 5, 6]\n",
    "\n",
    "result = list(map(lambda x, y: x + y, list1, list2))\n",
    "\n",
    "print(\"Result after adding the two lists:\", result)"
   ]
  },
  {
   "cell_type": "code",
   "execution_count": 40,
   "metadata": {},
   "outputs": [
    {
     "name": "stdout",
     "output_type": "stream",
     "text": [
      "Names and Grades of all students:\n",
      "[['S ROY', 1.0], ['B BOSE', 3.0], ['N KAR', 2.0], ['C DUTTA', 1.0], ['G GHOSH', 1.0]]\n",
      "Second lowest grade: 2.0\n",
      "Names:\n",
      "N KAR\n"
     ]
    }
   ],
   "source": [
    "# 16\n",
    "\n",
    "# Step 1: Input the number of students\n",
    "num_students = int(input(\"Input number of students: \"))\n",
    "\n",
    "# Step 2: Collect names and grades\n",
    "students = []\n",
    "for _ in range(num_students):\n",
    "    name = input(\"Name: \")\n",
    "    grade = float(input(\"Grade: \"))\n",
    "    students.append([name, grade])\n",
    "\n",
    "# Display the names and grades of all students\n",
    "print(\"Names and Grades of all students:\")\n",
    "print(students)\n",
    "\n",
    "# Step 3: Find unique grades\n",
    "unique_grades = sorted(set(student[1] for student in students))\n",
    "\n",
    "# Step 4: Check if there are at least two unique grades\n",
    "if len(unique_grades) < 2:\n",
    "    print(\"Not enough unique grades to determine the second lowest.\")\n",
    "else:\n",
    "    # Step 5: Find the second lowest grade\n",
    "    second_lowest_grade = unique_grades[1]\n",
    "\n",
    "    # Step 6: Find names of students with the second lowest grade\n",
    "    names_with_second_lowest = [student[0] for student in students if student[1] == second_lowest_grade]\n",
    "\n",
    "    # Output the results\n",
    "    print(\"Second lowest grade:\", second_lowest_grade)\n",
    "    print(\"Names:\")\n",
    "    for name in names_with_second_lowest:\n",
    "        print(name)"
   ]
  },
  {
   "cell_type": "code",
   "execution_count": 3,
   "metadata": {},
   "outputs": [
    {
     "data": {
      "text/plain": [
       "[19, 65, 57, 39, 152, 190]"
      ]
     },
     "execution_count": 3,
     "metadata": {},
     "output_type": "execute_result"
    }
   ],
   "source": [
    "# 22 Jan 2025\n",
    "\n",
    "# 17. Write a Python program to find numbers divisible by nineteen or thirteen from a list of numbers using Lambda.\n",
    "# Orginal list:\n",
    "# [19, 65, 57, 39, 152, 639, 121, 44, 90, 190]\n",
    "# Numbers of the above list divisible by nineteen or thirteen:\n",
    "# [19, 65, 57, 39, 152, 190]\n",
    "\n",
    "list17 = [19, 65, 57, 39, 152, 639, 121, 44, 90, 190]\n",
    "list17_1 = list(filter(lambda x: x%19==0 or x%13==0, list17))\n",
    "list17_1"
   ]
  },
  {
   "cell_type": "code",
   "execution_count": 10,
   "metadata": {},
   "outputs": [
    {
     "name": "stdout",
     "output_type": "stream",
     "text": [
      "['php', 'aaa']\n",
      "['php', 'aaa']\n"
     ]
    }
   ],
   "source": [
    "# 18. Write a Python program to find palindromes in a given list of strings using Lambda.\n",
    "# Orginal list of strings:\n",
    "# ['php', 'w3r', 'Python', 'abcd', 'Java', 'aaa']\n",
    "# List of palindromes:\n",
    "# ['php', 'aaa']\n",
    "\n",
    "def palindrome(list18):\n",
    "    result = []\n",
    "    for i in list18:\n",
    "        if i.lower() == ''.join(reversed(i)).lower(): \n",
    "            result.append(i)  \n",
    "    return result \n",
    "\n",
    "list18 = ['php', 'w3r', 'Python', 'abcd', 'Java', 'aaa']\n",
    "result = palindrome(list18)\n",
    "print(result) \n",
    "\n",
    "result1 = list(filter(lambda i: i.lower() == ''.join(reversed(i)).lower(), list18))\n",
    "\n",
    "print(result1) "
   ]
  },
  {
   "cell_type": "code",
   "execution_count": 15,
   "metadata": {},
   "outputs": [
    {
     "data": {
      "text/plain": [
       "['bcda', 'cbda', 'adcb']"
      ]
     },
     "execution_count": 15,
     "metadata": {},
     "output_type": "execute_result"
    }
   ],
   "source": [
    "# 19. Write a Python program to find all anagrams of a string in a given list of strings using Lambda.\n",
    "# Orginal list of strings:\n",
    "# ['bcda', 'abce', 'cbda', 'cbea', 'adcb']\n",
    "# Anagrams of 'abcd' in the above string:\n",
    "# ['bcda', 'cbda', 'adcb']\n",
    "target = 'abcd'\n",
    "list19 = ['bcda', 'abce', 'cbda', 'cbea', 'adcb']\n",
    "list19_1 = list(filter(lambda i: sorted(i)==sorted(target), list19))\n",
    "list19_1 "
   ]
  },
  {
   "cell_type": "code",
   "execution_count": 24,
   "metadata": {},
   "outputs": [
    {
     "name": "stdout",
     "output_type": "stream",
     "text": [
      "[20, 21, 23, 56]\n",
      "Original string:  sdf 23 safs8 5 sdfsd8 sdfs 56 21sfs 20 5\n",
      "Numbers in sorted form:\n",
      "20 23 56 "
     ]
    }
   ],
   "source": [
    "# 20. Write a Python program to find the numbers in a given string and store them in a list.\n",
    "#  Afterward, display the numbers that are longer than the length of the list in sorted form. \n",
    "# Use the lambda function to solve the problem.\n",
    "# Original string: sdf 23 safs8 5 sdfsd8 sdfs 56 21sfs 20 5\n",
    "# Numbers in sorted form:\n",
    "# 20 23 56\n",
    "import re\n",
    "\n",
    "string20 = 'sdf 23 safs8 5 sdfsd8 sdfs 56 21sfs 20 5'\n",
    "numbers = list(map(int, re.findall(r'\\d+', string20)))\n",
    "length_of_list = len(numbers)\n",
    "result = sorted(filter(lambda x: x > length_of_list, numbers))\n",
    "print(result)  \n",
    "\n",
    "#2\n",
    "str1 = \"sdf 23 safs8 5 sdfsd8 sdfs 56 21sfs 20 5\"\n",
    "print(\"Original string: \", str1)\n",
    "str_num = [i for i in str1.split(' ')]\n",
    "lenght = len(str_num)\n",
    "numbers = sorted([int(x) for x in str_num if x.isdigit()])\n",
    "print('Numbers in sorted form:')\n",
    "for i in (filter(lambda x: x > lenght, numbers)):\n",
    "    print(i, end=' ') \n"
   ]
  },
  {
   "cell_type": "code",
   "execution_count": 27,
   "metadata": {},
   "outputs": [
    {
     "data": {
      "text/plain": [
       "[4, 8, 12, 18, 22]"
      ]
     },
     "execution_count": 27,
     "metadata": {},
     "output_type": "execute_result"
    }
   ],
   "source": [
    "# 21. Write a Python program that multiplies each number in a list with a given number using lambda functions. \n",
    "# Print the results.\n",
    "# Original list: [2, 4, 6, 9, 11]\n",
    "# Given number: 2\n",
    "# Result: 4 8 12 18 22\n",
    "\n",
    "g_num = 2\n",
    "list21 = [2, 4, 6, 9, 11]\n",
    "result = list(map(lambda x: x*g_num, list21))\n",
    "result"
   ]
  },
  {
   "cell_type": "code",
   "execution_count": 28,
   "metadata": {},
   "outputs": [
    {
     "name": "stdout",
     "output_type": "stream",
     "text": [
      "10\n"
     ]
    }
   ],
   "source": [
    "# 22. Write a  Python program that sums the length of a list of names after removing those \n",
    "# that start with lowercase letters. Use the lambda function.\n",
    "# Result: 16\n",
    "\n",
    "list22 = ['Anna', 'Ted', 'jenny', 'Ali', 'ben']\n",
    "\n",
    "filtered_names = filter(lambda x: x[0].isupper(), list22)\n",
    "total_length = sum(map(len, filtered_names))\n",
    "print(total_length) \n"
   ]
  },
  {
   "cell_type": "code",
   "execution_count": 29,
   "metadata": {},
   "outputs": [
    {
     "name": "stdout",
     "output_type": "stream",
     "text": [
      "Sum of the positive numbers:  48\n",
      "Sum of the negative numbers:  -32\n"
     ]
    }
   ],
   "source": [
    "# 23. Write a Python program to calculate the sum of the positive and negative numbers of a given list of numbers using the lambda function.\n",
    "# Original list: [2, 4, -6, -9, 11, -12, 14, -5, 17]\n",
    "# Sum of the positive numbers: -32\n",
    "# Sum of the negative numbers: 48\n",
    "\n",
    "list23 = [2, 4, -6, -9, 11, -12, 14, -5, 17]\n",
    "\n",
    "sum_positive = sum(filter(lambda x: x>0, list23))\n",
    "sum_negative = sum(filter(lambda x: x<0, list23))\n",
    "\n",
    "print(\"Sum of the positive numbers: \", sum_positive)\n",
    "print(\"Sum of the negative numbers: \", sum_negative)"
   ]
  },
  {
   "cell_type": "code",
   "execution_count": 31,
   "metadata": {},
   "outputs": [
    {
     "name": "stdout",
     "output_type": "stream",
     "text": [
      "[1, 2, 3, 4, 5, 6, 7, 8, 9, 10, 11, 12, 15, 20, 22]\n"
     ]
    }
   ],
   "source": [
    "# 24. Write a Python program to find numbers within a given range where every number is divisible by every digit it contains.\n",
    "# Sample Output:\n",
    "# [1, 2, 3, 4, 5, 6, 7, 8, 9, 11, 12, 15, 22]\n",
    "\n",
    "def find_numbers_in_range(start, end):\n",
    "    return list(filter(\n",
    "        lambda num: all(num % int(digit) == 0 for digit in str(num) if digit != '0'),\n",
    "        range(start, end + 1)\n",
    "    ))\n",
    "\n",
    "start_range = 1\n",
    "end_range = 23\n",
    "result = find_numbers_in_range(start_range, end_range)\n",
    "print(result)  \n"
   ]
  },
  {
   "cell_type": "code",
   "execution_count": null,
   "metadata": {},
   "outputs": [],
   "source": [
    "\n"
   ]
  }
 ],
 "metadata": {
  "kernelspec": {
   "display_name": "Python 3",
   "language": "python",
   "name": "python3"
  },
  "language_info": {
   "codemirror_mode": {
    "name": "ipython",
    "version": 3
   },
   "file_extension": ".py",
   "mimetype": "text/x-python",
   "name": "python",
   "nbconvert_exporter": "python",
   "pygments_lexer": "ipython3",
   "version": "3.12.8"
  }
 },
 "nbformat": 4,
 "nbformat_minor": 2
}
