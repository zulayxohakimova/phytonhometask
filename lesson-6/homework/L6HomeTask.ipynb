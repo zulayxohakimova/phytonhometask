{
 "cells": [
  {
   "cell_type": "markdown",
   "metadata": {},
   "source": [
    "HomeTask 6"
   ]
  },
  {
   "cell_type": "markdown",
   "metadata": {},
   "source": [
    "\n",
    "2.return uncommon elements of lists. (order of elements does not matter)\n",
    "input: list1= [1, 1, 2], list2 = [2, 3, 4]\n",
    "output: [1, 1, 3, 4]\n",
    "input: list1 = [1, 2, 3], list2 = [4, 5, 6]\n",
    "output: [1, 2, 3, 4, 5, 6]\n",
    "input: list1 = [1, 1, 2, 3, 4, 2], list2 = [1, 3, 4, 5]\n",
    "output: [2, 2, 5]\n"
   ]
  },
  {
   "cell_type": "code",
   "execution_count": 16,
   "metadata": {},
   "outputs": [
    {
     "name": "stdout",
     "output_type": "stream",
     "text": [
      "[1, 1, 3, 4]\n",
      "[1, 2, 3, 4, 5, 6]\n",
      "[2, 2, 5]\n"
     ]
    }
   ],
   "source": [
    "def uncommon_el(list1, list2):\n",
    "    uncommon_list1 = list(filter(lambda x: x not in list2, list1))\n",
    "  \n",
    "    uncommon_list2 = list(filter(lambda x: x not in list1, list2))\n",
    "  \n",
    "    uncommon = uncommon_list1 + uncommon_list2\n",
    "    return uncommon\n",
    "\n",
    "list1 = [1, 1, 2]\n",
    "list2 = [2, 3, 4]\n",
    "\n",
    "result =uncommon_el(list1, list2)\n",
    "print(result)\n",
    "\n",
    "list1 = [1, 2, 3]\n",
    "list2 = [4, 5, 6]\n",
    "\n",
    "result = uncommon_el(list1, list2)\n",
    "print(result)\n",
    "\n",
    "list1 = [1, 1, 2, 3, 4, 2]\n",
    "list2 = [1, 3, 4, 5]\n",
    "\n",
    "result = uncommon_el(list1, list2)\n",
    "print(result)"
   ]
  },
  {
   "cell_type": "markdown",
   "metadata": {},
   "source": [
    "3. txt nomli string saqlovchi o'zgaruvchi berilgan. txt dagi har uchinchi belgidan keyin pastkichiziqcha (underscore) qo'yilsin.\n",
    "Agar belgi unli harf yoki orqasidan ostki chiziqcha qo;yilgan harf bo'lsa, ostki chiziqcha keyingi harfdan keyin qo'yilsin.\n",
    "Agar belgi satrdagi ohirgi belgi bo'lsa chiziqcha qo'yilmasin.\n",
    "input: hello\n",
    "output: hel_lo\n",
    "input: assalom\n",
    "output: ass_alom\n",
    "input: abcabcdabcdeabcdefabcdefg\n",
    "output: abc_abcd_abcdeab_cdef_abcdefg"
   ]
  },
  {
   "cell_type": "code",
   "execution_count": 25,
   "metadata": {},
   "outputs": [
    {
     "name": "stdout",
     "output_type": "stream",
     "text": [
      "abc_abc_dab_cde_abc_def_abc_def_g\n"
     ]
    }
   ],
   "source": [
    "\n",
    "txt = \"abcabcdabcdeabcdefabcdefg\"\n",
    "\n",
    "result = \"\"\n",
    "\n",
    "for i in range(len(txt)):\n",
    "    if (i + 1) % 3 == 0 and i != len(txt) - 1:\n",
    "        result += txt[i] + \"_\"\n",
    "    else:\n",
    "        result += txt[i]\n",
    "\n",
    "print(result)"
   ]
  }
 ],
 "metadata": {
  "kernelspec": {
   "display_name": "Python 3",
   "language": "python",
   "name": "python3"
  },
  "language_info": {
   "codemirror_mode": {
    "name": "ipython",
    "version": 3
   },
   "file_extension": ".py",
   "mimetype": "text/x-python",
   "name": "python",
   "nbconvert_exporter": "python",
   "pygments_lexer": "ipython3",
   "version": "3.12.8"
  }
 },
 "nbformat": 4,
 "nbformat_minor": 2
}
