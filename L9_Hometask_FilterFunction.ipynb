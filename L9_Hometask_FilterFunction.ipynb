{
 "cells": [
  {
   "cell_type": "markdown",
   "metadata": {},
   "source": [
    "## Filter Functions"
   ]
  },
  {
   "cell_type": "markdown",
   "metadata": {},
   "source": [
    "w3recource // python // functional programming // Filter functions - 11 exercises"
   ]
  },
  {
   "cell_type": "code",
   "execution_count": 2,
   "metadata": {},
   "outputs": [
    {
     "name": "stdout",
     "output_type": "stream",
     "text": [
      "[2, 4, 6, 8, 10]\n"
     ]
    }
   ],
   "source": [
    "# 1. Write a Python function that filters out even numbers from a list of integers using the filter function.\n",
    "def filter_even_numbers(numbers):\n",
    "    return list(filter(lambda x: x % 2 == 0, numbers))\n",
    "\n",
    "numbers_list = [1, 2, 3, 4, 5, 6, 7, 8, 9, 10]\n",
    "filtered_numbers = filter_even_numbers(numbers_list)\n",
    "print(filtered_numbers)  "
   ]
  },
  {
   "cell_type": "code",
   "execution_count": 3,
   "metadata": {},
   "outputs": [
    {
     "name": "stdout",
     "output_type": "stream",
     "text": [
      "['H', 'P', 'N', 'F', 'T', 'E']\n"
     ]
    }
   ],
   "source": [
    "# 2. Write a Python program that uses the filter function to extract all uppercase letters \n",
    "# from a list of mixed-case strings.\n",
    "def uppercase_lets(strs):\n",
    "    uppercase_letters = filter(lambda s: s.isupper(), ''.join(strs))\n",
    "    return list(uppercase_letters)\n",
    "\n",
    "mixed_case_strings = [\"Hello\", \"world\", \"PythoN\", \"is\", \"Fun\", \"TogethEr\"]\n",
    "result = uppercase_lets(mixed_case_strings)\n",
    "print(result)  "
   ]
  },
  {
   "cell_type": "code",
   "execution_count": 4,
   "metadata": {},
   "outputs": [
    {
     "name": "stdout",
     "output_type": "stream",
     "text": [
      "[2, 3, 5, 8, 9]\n"
     ]
    }
   ],
   "source": [
    "# 3. Write a Python function that filters out all elements less than \n",
    "# or equal than a specified value from a list of numbers using the filter function.\n",
    "def filtered_by_value(list3, value):\n",
    "    return list(filter(lambda x: x <= value, list3))\n",
    "\n",
    "list33 = [2, 3, 5, 8, 9, 11, 14, 17, 20, 24]\n",
    "value3 = 10\n",
    "result = filtered_by_value(list33, value3)\n",
    "print(result)"
   ]
  },
  {
   "cell_type": "code",
   "execution_count": 7,
   "metadata": {},
   "outputs": [
    {
     "name": "stdout",
     "output_type": "stream",
     "text": [
      "['Ali', 'Oscar']\n"
     ]
    }
   ],
   "source": [
    "# 4. Write a Python program that creates a list of names and uses \n",
    "# the filter function to extract names that start with a vowel (A, E, I, O, U).\n",
    "def choose_vowel(names):\n",
    "    vowels = ['A', 'E', 'I', 'O', 'U']\n",
    "    return list(filter(lambda x: x[0].upper() in vowels, names))\n",
    "\n",
    "names_list = [\"Ali\", \"John\", \"Ben\", \"Oscar\"]\n",
    "print(choose_vowel(names_list))  "
   ]
  },
  {
   "cell_type": "code",
   "execution_count": 9,
   "metadata": {},
   "outputs": [
    {
     "name": "stdout",
     "output_type": "stream",
     "text": [
      "Original list of strings:  ['', 'a', '4', '', '@']\n",
      "List of strings without empty strings:  ['a', '4', '@']\n"
     ]
    }
   ],
   "source": [
    "# 5. Write a Python function that filters out all empty strings from a list of strings using the filter function.\n",
    "def empty_string(lst):\n",
    "    return list(filter(lambda x: x != '', lst))\n",
    "list5 = ['', 'a', '4', \"\", \"@\"]\n",
    "print('Original list of strings: ', list5)\n",
    "print('List of strings without empty strings: ', empty_string(list5))"
   ]
  },
  {
   "cell_type": "code",
   "execution_count": 10,
   "metadata": {},
   "outputs": [
    {
     "name": "stdout",
     "output_type": "stream",
     "text": [
      "[{'name': 'Alice', 'age': 20, 'grade': 95}, {'name': 'Charlie', 'age': 22, 'grade': 97}, {'name': 'Eve', 'age': 20, 'grade': 100}]\n"
     ]
    }
   ],
   "source": [
    "# 6. Write a Python program that creates a list of dictionaries containing student information (name, age, grade)\n",
    "#  and uses the filter function to extract students with a grade greater than or equal to 95.\n",
    "def filter_students_by_grade(students):\n",
    "    return list(filter(lambda student: student['grade'] >= 95, students))\n",
    "\n",
    "students_list = [\n",
    "    {'name': 'Alice', 'age': 20, 'grade': 95},\n",
    "    {'name': 'Bob', 'age': 21, 'grade': 88},\n",
    "    {'name': 'Charlie', 'age': 22, 'grade': 97},\n",
    "    {'name': 'Diana', 'age': 19, 'grade': 92},\n",
    "    {'name': 'Eve', 'age': 20, 'grade': 100}\n",
    "]\n",
    "\n",
    "filtered_students = filter_students_by_grade(students_list)\n",
    "print(filtered_students)"
   ]
  },
  {
   "cell_type": "code",
   "execution_count": 12,
   "metadata": {},
   "outputs": [
    {
     "name": "stdout",
     "output_type": "stream",
     "text": [
      "[2, 3, 5, 17]\n"
     ]
    }
   ],
   "source": [
    "# 7. Write a Python program that filters out prime numbers from a list of integers using the filter function.\n",
    "def is_prime(n):\n",
    "    if n <= 1:\n",
    "        return False\n",
    "    for i in range(2, int(n**0.5) + 1):\n",
    "        if n % i == 0:\n",
    "            return False\n",
    "    return True\n",
    "\n",
    "def filter_prime_numbers(list_int):\n",
    "    return list(filter(lambda x: is_prime(x), list_int))\n",
    "\n",
    "list_of_integers = [2, 3, 4, 5, 10, 15, 17, 18]\n",
    "filtered_numbers = filter_prime_numbers(list_of_integers)\n",
    "print(filtered_numbers)"
   ]
  },
  {
   "cell_type": "code",
   "execution_count": 13,
   "metadata": {},
   "outputs": [
    {
     "name": "stdout",
     "output_type": "stream",
     "text": [
      "['hellooo', 'Chinora', 'wussap']\n"
     ]
    }
   ],
   "source": [
    "# 8. Write a Python program that creates a list of words and use the filter function \n",
    "# to extract words that contain more than five letters.\n",
    "def words_len5(lst):\n",
    "    return list(filter(lambda x: len(x)>5, lst))\n",
    "\n",
    "list8 = [\"hey\", \"ahd\", \"hellooo\", \"Chinora\", \"so\", \"wussap\"]\n",
    "print(words_len5(list8))"
   ]
  },
  {
   "cell_type": "code",
   "execution_count": 17,
   "metadata": {},
   "outputs": [
    {
     "name": "stdout",
     "output_type": "stream",
     "text": [
      "Original list:  ['apple', 'banana', 'cherry', 'data', 'elderberry']\n",
      "Filtered list which is not containing substring 'e':  ['banana', 'data']\n",
      "Filtered list which containing substring 'e':  ['apple', 'cherry', 'elderberry']\n"
     ]
    }
   ],
   "source": [
    "# 9. Write a Python function that filters out elements from a list of strings containing \n",
    "# a specific substring using the filter function.\n",
    "def substring_filter_out(lst, substring):\n",
    "    return list(filter(lambda s: substring not in s, lst))\n",
    "\n",
    "list9 = [\"apple\", \"banana\", \"cherry\", \"data\", \"elderberry\"]\n",
    "substring9 = 'e'\n",
    "print(\"Original list: \", list9)\n",
    "print('Filtered list which is not containing substring \\'e\\': ',substring_filter_out(list9, substring9))\n",
    "\n",
    "def substring_filter_in(lst, substring):\n",
    "    return list(filter(lambda s: substring in s, lst))\n",
    "\n",
    "print('Filtered list which containing substring \\'e\\': ', substring_filter_in(list9, substring9))"
   ]
  },
  {
   "cell_type": "code",
   "execution_count": 23,
   "metadata": {},
   "outputs": [
    {
     "name": "stdout",
     "output_type": "stream",
     "text": [
      "['2026-01-01', '2025-08-01', '2029-01-01']\n"
     ]
    }
   ],
   "source": [
    "# 10. Write a Python program that implements a Python program that \n",
    "# filters out dates (in the format \"YYYY-MM-DD\") that are in the future using the filter function.\n",
    "from datetime import datetime\n",
    "\n",
    "def filtered_dates(date_list):\n",
    "    now = datetime.now()\n",
    "    return list(filter(lambda x: datetime.strptime(x, \"%Y-%m-%d\") >= now, date_list))\n",
    "\n",
    "dates = ['1234-01-01', '2025-01-01', '2026-01-01', '2024-01-01', '2025-08-01', '2029-01-01']\n",
    "filtered = filtered_dates(dates)\n",
    "print(filtered)"
   ]
  },
  {
   "cell_type": "code",
   "execution_count": 24,
   "metadata": {},
   "outputs": [
    {
     "name": "stdout",
     "output_type": "stream",
     "text": [
      "[('Tokyo', 13929286), ('Shanghai', 26317104), ('Mexico City', 9209944), ('Cairo', 9500000), ('Mumbai', 20411000), ('Osaka', 19222665)]\n"
     ]
    }
   ],
   "source": [
    "# 11. Write a Python program that creates a list of tuples, each containing a city name and its population. \n",
    "# Use the filter function to extract cities with a population greater than 2 million.\n",
    "def large_cities(cities):\n",
    "    return list(filter(lambda x: x[1]>2000000, cities))\n",
    "\n",
    "\n",
    "list11 = [\n",
    "    (\"Tokyo\", 13929286),      \n",
    "    (\"Shanghai\", 26317104),  \n",
    "    (\"Mexico City\", 9209944), \n",
    "    (\"Cairo\", 9500000),       \n",
    "    (\"Mumbai\", 20411000),     \n",
    "    (\"Osaka\", 19222665),     \n",
    "    (\"Helsinki\", 655281),     \n",
    "    (\"Lisbon\", 504718),       \n",
    "    (\"Reykjavik\", 131136),    \n",
    "    (\"Tallinn\", 437619)       \n",
    "]\n",
    "\n",
    "print(large_cities(list11))"
   ]
  }
 ],
 "metadata": {
  "kernelspec": {
   "display_name": "Python 3",
   "language": "python",
   "name": "python3"
  },
  "language_info": {
   "codemirror_mode": {
    "name": "ipython",
    "version": 3
   },
   "file_extension": ".py",
   "mimetype": "text/x-python",
   "name": "python",
   "nbconvert_exporter": "python",
   "pygments_lexer": "ipython3",
   "version": "3.12.8"
  }
 },
 "nbformat": 4,
 "nbformat_minor": 2
}
