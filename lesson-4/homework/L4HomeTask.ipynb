{
 "cells": [
  {
   "cell_type": "markdown",
   "metadata": {},
   "source": [
    "HomeTask 1"
   ]
  },
  {
   "cell_type": "code",
   "execution_count": null,
   "metadata": {},
   "outputs": [],
   "source": [
    "# 1. Create a list named food with two elements, \"rice\" and \"beans\".\n",
    "# 2. Append the string \"broccoli\" to food using .append().\n",
    "# 3. Add the strings \"bread\" and \"pizza\" to food using .extend().\n",
    "# 4. Print the first two items in the food list using print() and slice notation.\n",
    "# 5. Print the last item in food using print() and index notation.\n",
    "# 6. Create a list called breakfast from the string \"eggs, fruit, orange juice\" using the string .split() method.\n",
    "# 7. Verify that breakfast has three items using len().\n",
    "# 8. Create a new list called lengths using a list comprehension that contains the lengths of each string in the breakfast list.\n"
   ]
  },
  {
   "cell_type": "code",
   "execution_count": 19,
   "metadata": {},
   "outputs": [
    {
     "name": "stdout",
     "output_type": "stream",
     "text": [
      "['rice', 'beans']\n",
      "pizza\n",
      "['rice', 'beans', 'broccoli', 'bread', 'pizza']\n",
      "3\n",
      "[4, 5, 12]\n",
      "['eggs', 'fruit', 'orange juice']\n"
     ]
    }
   ],
   "source": [
    "food = [\"rice\", \"beans\"]\n",
    "food.append(\"broccoli\")\n",
    "food.extend([\"bread\", \"pizza\"])\n",
    "print(food[0:2]) \n",
    "# pomos 10 jan \n",
    "print(food[-1])\n",
    "print(food)\n",
    "breakfast = \"eggs, fruit, orange juice\".split(\", \")\n",
    "print(len(breakfast))\n",
    "lengths = [len(item) for item in breakfast]\n",
    "print(lengths)\n",
    "print(breakfast)\n"
   ]
  }
 ],
 "metadata": {
  "kernelspec": {
   "display_name": "Python 3",
   "language": "python",
   "name": "python3"
  },
  "language_info": {
   "codemirror_mode": {
    "name": "ipython",
    "version": 3
   },
   "file_extension": ".py",
   "mimetype": "text/x-python",
   "name": "python",
   "nbconvert_exporter": "python",
   "pygments_lexer": "ipython3",
   "version": "3.12.8"
  }
 },
 "nbformat": 4,
 "nbformat_minor": 2
}
