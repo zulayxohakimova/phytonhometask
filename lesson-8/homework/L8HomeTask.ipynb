{
 "cells": [
  {
   "cell_type": "markdown",
   "metadata": {},
   "source": [
    "text.txt da 'the' sozi necha marta kelganini dictionary da yozish"
   ]
  },
  {
   "cell_type": "code",
   "execution_count": 3,
   "metadata": {},
   "outputs": [
    {
     "name": "stdout",
     "output_type": "stream",
     "text": [
      "{'the': 7} times occured in the text\n"
     ]
    }
   ],
   "source": [
    "# Step 1: \n",
    "with open('text.txt', 'r') as file:\n",
    "    text = file.read()\n",
    "\n",
    "# Step 2: \n",
    "text = text.lower()\n",
    "\n",
    "# Step 3: \n",
    "count_the = text.count('the')\n",
    "\n",
    "# Step 4:\n",
    "result = {'the': count_the}\n",
    "\n",
    "print(result, \"times occured in the text\")"
   ]
  }
 ],
 "metadata": {
  "kernelspec": {
   "display_name": "Python 3",
   "language": "python",
   "name": "python3"
  },
  "language_info": {
   "codemirror_mode": {
    "name": "ipython",
    "version": 3
   },
   "file_extension": ".py",
   "mimetype": "text/x-python",
   "name": "python",
   "nbconvert_exporter": "python",
   "pygments_lexer": "ipython3",
   "version": "3.12.8"
  }
 },
 "nbformat": 4,
 "nbformat_minor": 2
}
