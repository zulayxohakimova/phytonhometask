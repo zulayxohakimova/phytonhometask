{
 "cells": [
  {
   "cell_type": "markdown",
   "metadata": {},
   "source": [
    "If Else Problem"
   ]
  },
  {
   "cell_type": "code",
   "execution_count": 1,
   "metadata": {},
   "outputs": [
    {
     "name": "stdout",
     "output_type": "stream",
     "text": [
      "Wierd\n"
     ]
    }
   ],
   "source": [
    "n=int(input(\"Enter an integer: \").strip())\n",
    "if n % 2 != 0:\n",
    "    print(\"Wierd\")"
   ]
  },
  {
   "cell_type": "code",
   "execution_count": null,
   "metadata": {},
   "outputs": [],
   "source": [
    "n = int(input(\"Enter as integer: \").strip())\n",
    "if n % 2 == 0 and 2 <= n <= 5:\n",
    "    print(\"Not Wierd\")"
   ]
  },
  {
   "cell_type": "code",
   "execution_count": null,
   "metadata": {},
   "outputs": [],
   "source": [
    "n = int(input(\"Enter an integer: \").strip.())\n",
    "if n % 2 == 0 and 6 <= n <= 20:\n",
    "    print(\"Wierd\")"
   ]
  },
  {
   "cell_type": "code",
   "execution_count": 10,
   "metadata": {},
   "outputs": [],
   "source": [
    "n = int(input(\"Enter an integer: \").strip())\n",
    "if n % 2 == 0 and n > 20:\n",
    "    print(\"Not Wierd\")"
   ]
  },
  {
   "cell_type": "code",
   "execution_count": 11,
   "metadata": {},
   "outputs": [
    {
     "name": "stdout",
     "output_type": "stream",
     "text": [
      "Wierd\n"
     ]
    }
   ],
   "source": [
    "n=int(input(\"Enter an integer: \").strip())\n",
    "if n % 2 != 0:\n",
    "    print(\"Wierd\")\n",
    "elif n % 2 == 0 and 2 <= n <= 5:\n",
    "    print(\"Not Wierd\")\n",
    "elif n % 2 == 0 and 6 <= n <= 20:\n",
    "    print(\"Wierd\")  \n",
    "if n % 2 == 0 and n > 20:\n",
    "    print(\"Not Wierd\")        "
   ]
  }
 ],
 "metadata": {
  "kernelspec": {
   "display_name": "Python 3",
   "language": "python",
   "name": "python3"
  },
  "language_info": {
   "codemirror_mode": {
    "name": "ipython",
    "version": 3
   },
   "file_extension": ".py",
   "mimetype": "text/x-python",
   "name": "python",
   "nbconvert_exporter": "python",
   "pygments_lexer": "ipython3",
   "version": "3.12.8"
  }
 },
 "nbformat": 4,
 "nbformat_minor": 2
}
