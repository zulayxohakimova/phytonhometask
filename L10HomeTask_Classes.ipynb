{
 "cells": [
  {
   "cell_type": "markdown",
   "metadata": {},
   "source": [
    "## Hometask Classes"
   ]
  },
  {
   "cell_type": "markdown",
   "metadata": {},
   "source": [
    "### w3recource Python Clases 28 Exercises"
   ]
  },
  {
   "cell_type": "markdown",
   "metadata": {},
   "source": [
    "Python class, Basic exercises 12 exercises"
   ]
  },
  {
   "cell_type": "code",
   "execution_count": 31,
   "metadata": {},
   "outputs": [
    {
     "name": "stdout",
     "output_type": "stream",
     "text": [
      "__name__\n",
      "__doc__\n",
      "__package__\n",
      "__loader__\n",
      "__spec__\n",
      "_array_reconstructor\n",
      "ArrayType\n",
      "array\n",
      "typecodes\n"
     ]
    }
   ],
   "source": [
    "#1. Write a Python program to import a built-in array module and display the namespace of the said module.\n",
    "import array\n",
    "for name in array.__dict__:\n",
    "    print(name)"
   ]
  },
  {
   "cell_type": "code",
   "execution_count": 1,
   "metadata": {},
   "outputs": [
    {
     "name": "stdout",
     "output_type": "stream",
     "text": [
      "Cat class namespace:\n",
      "__module__: __main__\n",
      "__init__: <function Cat.__init__ at 0x00000178ADAFC360>\n",
      "meow: <function Cat.meow at 0x00000178ADAFC400>\n",
      "__dict__: <attribute '__dict__' of 'Cat' objects>\n",
      "__weakref__: <attribute '__weakref__' of 'Cat' objects>\n",
      "__doc__: None\n"
     ]
    }
   ],
   "source": [
    "#2. Write a Python program to create a class and display the namespace of that class.\n",
    "\n",
    "class Cat:\n",
    "    def __init__(self, name, age):\n",
    "        self.name = name  \n",
    "        self.age = age    \n",
    "\n",
    "    def meow(self):\n",
    "        return f\"{self.name} says Meow!\"\n",
    "\n",
    "namespace = vars(Cat)\n",
    "print(\"Cat class namespace:\")\n",
    "for key, value in namespace.items():\n",
    "    print(f\"{key}: {value}\")"
   ]
  },
  {
   "cell_type": "code",
   "execution_count": 4,
   "metadata": {},
   "outputs": [
    {
     "name": "stdout",
     "output_type": "stream",
     "text": [
      "my_bird instance namespace:\n",
      "name: Tweety\n",
      "species: Canary\n"
     ]
    }
   ],
   "source": [
    "#3. Write a Python program to create an instance of a specified class and display the namespace of the said instance.\n",
    "\n",
    "class Bird:\n",
    "    def __init__(self, name, species):\n",
    "        self.name = name      \n",
    "        self.species = species  \n",
    "\n",
    "    def sing(self):\n",
    "        return f\"{self.name} the {self.species} sings!\"\n",
    "\n",
    "my_bird = Bird(\"Tweety\", \"Canary\")\n",
    "\n",
    "namespace = my_bird.__dict__\n",
    "print(\"my_bird instance namespace:\")\n",
    "for key, value in namespace.items():\n",
    "    print(f\"{key}: {value}\")"
   ]
  },
  {
   "cell_type": "code",
   "execution_count": 5,
   "metadata": {},
   "outputs": [
    {
     "name": "stdout",
     "output_type": "stream",
     "text": [
      "Documentation for abs():\n",
      "Return the absolute value of the argument.\n",
      "The absolute value of -155 is: 155\n"
     ]
    }
   ],
   "source": [
    "#4. 'builtins' module provides direct access to all 'built-in' identifiers of Python.\n",
    "#Write a Python program that imports the abs() function using the builtins module,\n",
    "#  displays the documentation of the abs() function and finds the absolute value of -155.\n",
    "\n",
    "import builtins\n",
    "\n",
    "abs_function = builtins.abs\n",
    "\n",
    "print(\"Documentation for abs():\")\n",
    "print(abs_function.__doc__)\n",
    "\n",
    "absolute_value = abs_function(-155)\n",
    "print(\"The absolute value of -155 is:\", absolute_value)"
   ]
  },
  {
   "cell_type": "code",
   "execution_count": 6,
   "metadata": {},
   "outputs": [
    {
     "name": "stdout",
     "output_type": "stream",
     "text": [
      "Arguments of the function 'student': ('name', 'age', 'grade')\n"
     ]
    }
   ],
   "source": [
    "#5. Define a Python function student(). Using function attributes display the names of all arguments.\n",
    "\n",
    "def student(name, age, grade):\n",
    "    \"\"\"This function represents a student.\"\"\"\n",
    "    pass  \n",
    "\n",
    "def display_argument_names(func):\n",
    "    argument_names = func.__code__.co_varnames[:func.__code__.co_argcount]\n",
    "    print(\"Arguments of the function 'student':\", argument_names)\n",
    "\n",
    "display_argument_names(student)"
   ]
  },
  {
   "cell_type": "code",
   "execution_count": 7,
   "metadata": {},
   "outputs": [
    {
     "name": "stdout",
     "output_type": "stream",
     "text": [
      "Student ID: 101\n",
      "\n",
      "Student ID: 102\n",
      "Student Name: Alice\n",
      "Student Class: 10A\n"
     ]
    }
   ],
   "source": [
    "#6. Write a Python function student_data () that will print the ID of a student (student_id). \n",
    "# If the user passes an argument student_name or student_class the function will print the student name and class.\n",
    "\n",
    "def student_data(student_id, student_name=None, student_class=None):\n",
    "    print(f\"Student ID: {student_id}\")\n",
    "    \n",
    "    if student_name:\n",
    "        print(f\"Student Name: {student_name}\")\n",
    "    \n",
    "    if student_class:\n",
    "        print(f\"Student Class: {student_class}\")\n",
    "\n",
    "# Example usage:\n",
    "student_data(101)  \n",
    "print()            \n",
    "student_data(102, student_name=\"Alice\", student_class=\"10A\")  "
   ]
  },
  {
   "cell_type": "code",
   "execution_count": 8,
   "metadata": {},
   "outputs": [
    {
     "name": "stdout",
     "output_type": "stream",
     "text": [
      "Type of Student class: <class 'type'>\n",
      "Keys in the __dict__ attribute of Student class: dict_keys(['__module__', '__doc__', '__init__', '__dict__', '__weakref__'])\n",
      "Value of the __module__ attribute: __main__\n"
     ]
    }
   ],
   "source": [
    "#7. Write a simple Python class named Student and display its type. \n",
    "# Also, display the __dict__ attribute keys and the value of the __module__ attribute of the Student class.\n",
    "\n",
    "class Student:\n",
    "    \n",
    "    def __init__(self, name, age):\n",
    "        self.name = name \n",
    "        self.age = age   \n",
    "\n",
    "print(\"Type of Student class:\", type(Student))\n",
    "\n",
    "print(\"Keys in the __dict__ attribute of Student class:\", Student.__dict__.keys())\n",
    "\n",
    "print(\"Value of the __module__ attribute:\", Student.__module__)"
   ]
  },
  {
   "cell_type": "code",
   "execution_count": 9,
   "metadata": {},
   "outputs": [
    {
     "name": "stdout",
     "output_type": "stream",
     "text": [
      "Is student_instance an instance of Student?: True\n",
      "Is marks_instance an instance of Marks?: True\n",
      "Is Student a subclass of object?: True\n",
      "Is Marks a subclass of object?: True\n"
     ]
    }
   ],
   "source": [
    "#8. Write a Python program to create two empty classes, Student and Marks. \n",
    "# Now create some instances and check whether they are instances of the said classes or not. \n",
    "# Also, check whether the said classes are subclasses of the built-in object class or not.\n",
    "\n",
    "class Student:\n",
    "    pass\n",
    "\n",
    "class Marks:\n",
    "    pass\n",
    "\n",
    "student_instance = Student()\n",
    "marks_instance = Marks()\n",
    "\n",
    "print(\"Is student_instance an instance of Student?:\", isinstance(student_instance, Student))\n",
    "print(\"Is marks_instance an instance of Marks?:\", isinstance(marks_instance, Marks))\n",
    "\n",
    "print(\"Is Student a subclass of object?:\", issubclass(Student, object))\n",
    "print(\"Is Marks a subclass of object?:\", issubclass(Marks, object))"
   ]
  },
  {
   "cell_type": "code",
   "execution_count": 10,
   "metadata": {},
   "outputs": [
    {
     "name": "stdout",
     "output_type": "stream",
     "text": [
      "Original values:\n",
      "Student Name: Alice\n",
      "Marks: 85\n",
      "\n",
      "Modified values:\n",
      "Student Name: Bob\n",
      "Marks: 90\n"
     ]
    }
   ],
   "source": [
    "#9. Write a Python class named Student with two attributes student_name, marks. \n",
    "# Modify the attribute values of the said class and print the original and modified values of the said attributes.\n",
    "\n",
    "class Student:\n",
    "    \"\"\"Class representing a student with a name and marks.\"\"\"\n",
    "    \n",
    "    def __init__(self, student_name, marks):\n",
    "        self.student_name = student_name \n",
    "        self.marks = marks                \n",
    "\n",
    "student = Student(\"Alice\", 85)\n",
    "\n",
    "print(\"Original values:\")\n",
    "print(\"Student Name:\", student.student_name)\n",
    "print(\"Marks:\", student.marks)\n",
    "\n",
    "student.student_name = \"Bob\"\n",
    "student.marks = 90\n",
    "\n",
    "print(\"\\nModified values:\")\n",
    "print(\"Student Name:\", student.student_name)\n",
    "print(\"Marks:\", student.marks)"
   ]
  },
  {
   "cell_type": "code",
   "execution_count": 11,
   "metadata": {},
   "outputs": [
    {
     "name": "stdout",
     "output_type": "stream",
     "text": [
      "Attributes and values after adding student_class:\n",
      "{'student_id': 101, 'student_name': 'Alice', 'student_class': '10A'}\n",
      "\n",
      "Attributes and values after removing student_name:\n",
      "{'student_id': 101, 'student_class': '10A'}\n"
     ]
    }
   ],
   "source": [
    "#10. Write a Python class named Student with two attributes student_id, student_name. \n",
    "# Add a new attribute student_class and display the entire attribute and the values of the class. \n",
    "# Now remove the student_name attribute and display the entire attribute with values.\n",
    "\n",
    "class Student:\n",
    "    \n",
    "    def __init__(self, student_id, student_name):\n",
    "        self.student_id = student_id      \n",
    "        self.student_name = student_name     \n",
    "        self.student_class = None            \n",
    "\n",
    "    def display_attributes(self):\n",
    "        return self.__dict__\n",
    "\n",
    "student = Student(101, \"Alice\")\n",
    "\n",
    "student.student_class = \"10A\"\n",
    "\n",
    "print(\"Attributes and values after adding student_class:\")\n",
    "print(student.display_attributes())\n",
    "\n",
    "del student.student_name\n",
    "\n",
    "print(\"\\nAttributes and values after removing student_name:\")\n",
    "print(student.display_attributes())"
   ]
  },
  {
   "cell_type": "code",
   "execution_count": 12,
   "metadata": {},
   "outputs": [
    {
     "name": "stdout",
     "output_type": "stream",
     "text": [
      "Student ID: 101\n",
      "Student Name: Alice\n",
      "Student Class: 10A\n"
     ]
    }
   ],
   "source": [
    "#11. Write a Python class named Student with two attributes: student_id, student_name. \n",
    "# Add a new attribute: student_class. Create a function to display all attributes and their values in the Student class.\n",
    "\n",
    "class Student:\n",
    "    def __init__(self, student_id, student_name):\n",
    "        self.student_id = student_id        \n",
    "        self.student_name = student_name   \n",
    "        self.student_class = None            \n",
    "\n",
    "    def set_student_class(self, student_class):\n",
    "        self.student_class = student_class\n",
    "\n",
    "    def display_attributes(self):\n",
    "        attributes = {\n",
    "            \"Student ID\": self.student_id,\n",
    "            \"Student Name\": self.student_name,\n",
    "            \"Student Class\": self.student_class\n",
    "        }\n",
    "        for attr, value in attributes.items():\n",
    "            print(f\"{attr}: {value}\")\n",
    "\n",
    "student = Student(101, \"Alice\")\n",
    "\n",
    "student.set_student_class(\"10A\")\n",
    "\n",
    "student.display_attributes()"
   ]
  },
  {
   "cell_type": "code",
   "execution_count": 15,
   "metadata": {},
   "outputs": [
    {
     "name": "stdout",
     "output_type": "stream",
     "text": [
      "Attributes of student1:\n",
      "Student ID: 101\n",
      "Student Name: Alice\n",
      "\n",
      "Attributes of student2:\n",
      "Student ID: 102\n",
      "Student Name: Bob\n"
     ]
    }
   ],
   "source": [
    "#12. Write a Python class named Student with two instances student1, student2 and assign values to the instances' attributes.\n",
    "#  Print all the attributes of the student1, student2 instances with their values in the given format.\n",
    "\n",
    "class Student:\n",
    "    \n",
    "    def __init__(self, student_id, student_name):\n",
    "        self.student_id = student_id        \n",
    "        self.student_name = student_name    \n",
    "\n",
    "student1 = Student(101, \"Alice\")\n",
    "student2 = Student(102, \"Bob\")\n",
    "\n",
    "def print_student_attributes(student):\n",
    "    print(f\"Student ID: {student.student_id}\")\n",
    "    print(f\"Student Name: {student.student_name}\")\n",
    "\n",
    "print(\"Attributes of student1:\")\n",
    "print_student_attributes(student1)\n",
    "\n",
    "print() \n",
    "print(\"Attributes of student2:\")\n",
    "print_student_attributes(student2)"
   ]
  },
  {
   "cell_type": "markdown",
   "metadata": {},
   "source": [
    "Python class, Basic application 12 exercises "
   ]
  },
  {
   "cell_type": "code",
   "execution_count": 16,
   "metadata": {},
   "outputs": [
    {
     "name": "stdout",
     "output_type": "stream",
     "text": [
      "The Roman numeral for 1994 is: MCMXCIV\n"
     ]
    }
   ],
   "source": [
    "#1. Write a Python class to convert an integer to a Roman numeral.\n",
    "\n",
    "class IntegerToRoman:\n",
    "\n",
    "    def __init__(self):\n",
    "        self.roman_numerals = [\n",
    "            (1000, \"M\"),\n",
    "            (900, \"CM\"),\n",
    "            (500, \"D\"),\n",
    "            (400, \"CD\"),\n",
    "            (100, \"C\"),\n",
    "            (90, \"XC\"),\n",
    "            (50, \"L\"),\n",
    "            (40, \"XL\"),\n",
    "            (10, \"X\"),\n",
    "            (9, \"IX\"),\n",
    "            (5, \"V\"),\n",
    "            (4, \"IV\"),\n",
    "            (1, \"I\")\n",
    "        ]\n",
    "\n",
    "    def convert(self, num):\n",
    "        if not (0 < num < 4000):\n",
    "            raise ValueError(\"Input must be between 1 and 3999.\")\n",
    "\n",
    "        roman_string = \"\"\n",
    "        for value, symbol in self.roman_numerals:\n",
    "            while num >= value:\n",
    "                roman_string += symbol\n",
    "                num -= value\n",
    "        return roman_string\n",
    "\n",
    "converter = IntegerToRoman()\n",
    "number = 1994\n",
    "roman_numeral = converter.convert(number)\n",
    "print(f\"The Roman numeral for {number} is: {roman_numeral}\")"
   ]
  },
  {
   "cell_type": "code",
   "execution_count": 17,
   "metadata": {},
   "outputs": [
    {
     "name": "stdout",
     "output_type": "stream",
     "text": [
      "The integer value for the Roman numeral 'MCMXCIV' is: 1994\n"
     ]
    }
   ],
   "source": [
    "#2. Write a  Python class to convert a Roman numeral to an integer.\n",
    "\n",
    "class RomanToInteger:\n",
    "\n",
    "    def __init__(self):\n",
    "        self.roman_numerals = {\n",
    "            'I': 1,\n",
    "            'V': 5,\n",
    "            'X': 10,\n",
    "            'L': 50,\n",
    "            'C': 100,\n",
    "            'D': 500,\n",
    "            'M': 1000\n",
    "        }\n",
    "\n",
    "    def convert(self, roman):\n",
    "        total = 0\n",
    "        prev_value = 0\n",
    "\n",
    "        for char in reversed(roman):\n",
    "            current_value = self.roman_numerals.get(char)\n",
    "\n",
    "            if current_value is None:\n",
    "                raise ValueError(f\"Invalid Roman numeral: {char}\")\n",
    "\n",
    "            if current_value < prev_value:\n",
    "                total -= current_value\n",
    "            else:\n",
    "                total += current_value\n",
    "\n",
    "            prev_value = current_value\n",
    "\n",
    "        return total\n",
    "\n",
    "converter = RomanToInteger()\n",
    "roman_numeral = \"MCMXCIV\"\n",
    "integer_value = converter.convert(roman_numeral)\n",
    "print(f\"The integer value for the Roman numeral '{roman_numeral}' is: {integer_value}\")"
   ]
  },
  {
   "cell_type": "code",
   "execution_count": 18,
   "metadata": {},
   "outputs": [
    {
     "name": "stdout",
     "output_type": "stream",
     "text": [
      "The string '()' is valid: True\n",
      "The string '()[]{}' is valid: True\n",
      "The string '[)' is valid: False\n",
      "The string '({[)]' is valid: False\n",
      "The string '{{{' is valid: False\n"
     ]
    }
   ],
   "source": [
    "#3. Write a Python class to check the validity of a string of parentheses, '(', ')', '{', '}', '[' and '].\n",
    "#  These brackets must be closed in the correct order, for example \"()\" and \"()[]{}\" are valid but \"[)\", \"({[)]\" and \"{{{\" are invalid.\n",
    "\n",
    "class ParenthesesValidator:\n",
    "\n",
    "    def __init__(self):\n",
    "        self.parentheses_map = {\n",
    "            '(': ')',\n",
    "            '{': '}',\n",
    "            '[': ']'\n",
    "        }\n",
    "\n",
    "    def is_valid(self, s):\n",
    "        stack = []\n",
    "\n",
    "        for char in s:\n",
    "            if char in self.parentheses_map: \n",
    "                stack.append(char)\n",
    "            elif char in self.parentheses_map.values():  \n",
    "                if not stack or self.parentheses_map[stack.pop()] != char:\n",
    "                    return False\n",
    "\n",
    "        return not stack  \n",
    "\n",
    "validator = ParenthesesValidator()\n",
    "test_strings = [\"()\", \"()[]{}\", \"[)\", \"({[)]\", \"{{{\"]\n",
    "results = {s: validator.is_valid(s) for s in test_strings}\n",
    "\n",
    "for test_string, is_valid in results.items():\n",
    "    print(f\"The string '{test_string}' is valid: {is_valid}\")"
   ]
  },
  {
   "cell_type": "code",
   "execution_count": 19,
   "metadata": {},
   "outputs": [
    {
     "name": "stdout",
     "output_type": "stream",
     "text": [
      "All possible unique subsets:\n",
      "[[], [4], [4, 5], [4, 5, 6], [4, 6], [5], [5, 6], [6]]\n"
     ]
    }
   ],
   "source": [
    "#4. Write a Python class to get all possible unique subsets from a set of distinct integers.\n",
    "# Input : [4, 5, 6]\n",
    "# Output : [[], [6], [5], [5, 6], [4], [4, 6], [4, 5], [4, 5, 6]]\n",
    "\n",
    "class UniqueSubsets:\n",
    "    def __init__(self, nums):\n",
    "        self.nums = sorted(nums)  \n",
    "        self.subsets = []\n",
    "\n",
    "    def generate_subsets(self):\n",
    "        self._backtrack([], 0)\n",
    "        return self.subsets\n",
    "\n",
    "    def _backtrack(self, current_subset, index):\n",
    "        self.subsets.append(current_subset.copy())  \n",
    "\n",
    "        for i in range(index, len(self.nums)):\n",
    "            current_subset.append(self.nums[i])  \n",
    "            self._backtrack(current_subset, i + 1)  \n",
    "            current_subset.pop()  \n",
    "\n",
    "input_set = [4, 5, 6]\n",
    "unique_subsets_generator = UniqueSubsets(input_set)\n",
    "result = unique_subsets_generator.generate_subsets()\n",
    "\n",
    "print(\"All possible unique subsets:\")\n",
    "print(result)"
   ]
  },
  {
   "cell_type": "code",
   "execution_count": 20,
   "metadata": {},
   "outputs": [
    {
     "name": "stdout",
     "output_type": "stream",
     "text": [
      "The indices of the two numbers that sum to 50 are: 2, 3\n"
     ]
    }
   ],
   "source": [
    "#5. Write a Python class to find a pair of elements (indices of the two numbers) from a given array whose sum equals a specific target number.\n",
    "# Note: There will be one solution for each input and do not use the same element twice.\n",
    "# Input: numbers= [10,20,10,40,50,60,70], target=50\n",
    "# Output: 3, 4\n",
    "# Difficulty: Medium. Company: Google, Facebook\n",
    "\n",
    "class TwoSum:\n",
    "\n",
    "    def __init__(self, numbers, target):\n",
    "        self.numbers = numbers\n",
    "        self.target = target\n",
    "\n",
    "    def find_indices(self):\n",
    "        num_to_index = {}\n",
    "\n",
    "        for index, number in enumerate(self.numbers):\n",
    "            complement = self.target - number\n",
    "            if complement in num_to_index:\n",
    "                return num_to_index[complement], index  \n",
    "            num_to_index[number] = index\n",
    "\n",
    "        return None  \n",
    "\n",
    "numbers = [10, 20, 10, 40, 50, 60, 70]\n",
    "target = 50\n",
    "two_sum = TwoSum(numbers, target)\n",
    "result = two_sum.find_indices()\n",
    "\n",
    "if result:\n",
    "    print(f\"The indices of the two numbers that sum to {target} are: {result[0]}, {result[1]}\")\n",
    "else:\n",
    "    print(\"No valid pair found.\")\n"
   ]
  },
  {
   "cell_type": "code",
   "execution_count": 21,
   "metadata": {},
   "outputs": [
    {
     "name": "stdout",
     "output_type": "stream",
     "text": [
      "Triplets that sum to zero:\n",
      "[[-10, 2, 8], [-7, -3, 10]]\n"
     ]
    }
   ],
   "source": [
    "#6. Write a Python class to find the three elements that sum to zero from a set of n real numbers.\n",
    "# Input array : [-25, -10, -7, -3, 2, 4, 8, 10]\n",
    "# Output : [[-10, 2, 8], [-7, -3, 10]]\n",
    "\n",
    "class ThreeSum:\n",
    "\n",
    "    def __init__(self, nums):\n",
    "        self.nums = sorted(nums)  \n",
    "\n",
    "    def find_triplets(self):\n",
    "        triplets = []\n",
    "        n = len(self.nums)\n",
    "\n",
    "        for i in range(n):\n",
    "            if i > 0 and self.nums[i] == self.nums[i - 1]:\n",
    "                continue\n",
    "\n",
    "            left, right = i + 1, n - 1\n",
    "\n",
    "            while left < right:\n",
    "                current_sum = self.nums[i] + self.nums[left] + self.nums[right]\n",
    "\n",
    "                if current_sum == 0:\n",
    "                    triplets.append([self.nums[i], self.nums[left], self.nums[right]])\n",
    "                    left += 1\n",
    "                    right -= 1\n",
    "\n",
    "                    while left < right and self.nums[left] == self.nums[left - 1]:\n",
    "                        left += 1\n",
    "                    while left < right and self.nums[right] == self.nums[right + 1]:\n",
    "                        right -= 1\n",
    "\n",
    "                elif current_sum < 0:\n",
    "                    left += 1  \n",
    "                else:\n",
    "                    right -= 1  \n",
    "\n",
    "        return triplets\n",
    "\n",
    "input_array = [-25, -10, -7, -3, 2, 4, 8, 10]\n",
    "three_sum_finder = ThreeSum(input_array)\n",
    "result = three_sum_finder.find_triplets()\n",
    "\n",
    "print(\"Triplets that sum to zero:\")\n",
    "print(result)"
   ]
  },
  {
   "cell_type": "code",
   "execution_count": 22,
   "metadata": {},
   "outputs": [
    {
     "name": "stdout",
     "output_type": "stream",
     "text": [
      "2.0 raised to the power of 10 is: 1024.0\n"
     ]
    }
   ],
   "source": [
    "#7. Write a Python class to implement pow(x, n).\n",
    "\n",
    "class PowerCalculator:\n",
    "\n",
    "    def pow(self, x, n):\n",
    "        if n < 0:\n",
    "            x = 1 / x  \n",
    "            n = -n\n",
    "        \n",
    "        result = 1\n",
    "        while n > 0:\n",
    "            if n % 2 == 1:\n",
    "                result *= x\n",
    "            x *= x\n",
    "            n //= 2\n",
    "        \n",
    "        return result\n",
    "\n",
    "calculator = PowerCalculator()\n",
    "x = 2.0\n",
    "n = 10\n",
    "result = calculator.pow(x, n)\n",
    "\n",
    "print(f\"{x} raised to the power of {n} is: {result}\")"
   ]
  },
  {
   "cell_type": "code",
   "execution_count": 23,
   "metadata": {},
   "outputs": [
    {
     "name": "stdout",
     "output_type": "stream",
     "text": [
      "Input string: 'hello . py'\n",
      "Reversed string: 'py . hello'\n"
     ]
    }
   ],
   "source": [
    "#8. Write a Python class to reverse a string word by word.\n",
    "# Input string : 'hello . py'\n",
    "# Expected Output : '.py hello'\n",
    "\n",
    "class StringReverser:\n",
    "\n",
    "    def reverse_words(self, s):\n",
    "        \n",
    "        words = s.strip().split()\n",
    "        reversed_words = words[::-1]\n",
    "        return ' '.join(reversed_words)\n",
    "\n",
    "input_string = 'hello . py'\n",
    "reverser = StringReverser()\n",
    "result = reverser.reverse_words(input_string)\n",
    "\n",
    "print(f\"Input string: '{input_string}'\")\n",
    "print(f\"Reversed string: '{result}'\")"
   ]
  },
  {
   "cell_type": "code",
   "execution_count": 24,
   "metadata": {},
   "outputs": [
    {
     "name": "stdout",
     "output_type": "stream",
     "text": [
      "STHFD\n"
     ]
    }
   ],
   "source": [
    "#9. Write a Python class that has two methods: get_String and print_String , get_String accept a string from the user\n",
    "#  and print_String prints the string in upper case.\n",
    "\n",
    "class StringHandler:\n",
    "\n",
    "    def __init__(self):\n",
    "        self.user_string = \"\"\n",
    "\n",
    "    def get_string(self):\n",
    "        self.user_string = input(\"Enter a string: \")\n",
    "\n",
    "    def print_string(self):\n",
    "        print(self.user_string.upper())\n",
    "\n",
    "handler = StringHandler()\n",
    "handler.get_string()  \n",
    "handler.print_string()  "
   ]
  },
  {
   "cell_type": "code",
   "execution_count": 25,
   "metadata": {},
   "outputs": [
    {
     "name": "stdout",
     "output_type": "stream",
     "text": [
      "Rectangle with length 5 and width 3 has an area of: 15\n"
     ]
    }
   ],
   "source": [
    "#10. Write a Python class named Rectangle constructed from length and width and a method that will compute the area of a rectangle.\n",
    "\n",
    "class Rectangle:\n",
    "\n",
    "    def __init__(self, length, width):\n",
    "        self.length = length\n",
    "        self.width = width\n",
    "\n",
    "    def area(self):\n",
    "        return self.length * self.width\n",
    "\n",
    "length = 5\n",
    "width = 3\n",
    "rectangle = Rectangle(length, width)\n",
    "area = rectangle.area()\n",
    "\n",
    "print(f\"Rectangle with length {length} and width {width} has an area of: {area}\")"
   ]
  },
  {
   "cell_type": "code",
   "execution_count": 26,
   "metadata": {},
   "outputs": [
    {
     "name": "stdout",
     "output_type": "stream",
     "text": [
      "Circle with radius 5 has an area of: 78.54\n",
      "Circle with radius 5 has a perimeter of: 31.42\n"
     ]
    }
   ],
   "source": [
    "#11. Write a Python class named Circle constructed from a radius and two methods that will compute the area and the perimeter of a circle.\n",
    "\n",
    "import math\n",
    "\n",
    "class Circle:\n",
    "\n",
    "    def __init__(self, radius):\n",
    "        self.radius = radius\n",
    "\n",
    "    def area(self):\n",
    "        return math.pi * (self.radius ** 2)\n",
    "\n",
    "    def perimeter(self):\n",
    "        return 2 * math.pi * self.radius\n",
    "\n",
    "radius = 5\n",
    "circle = Circle(radius)\n",
    "\n",
    "area = circle.area()\n",
    "perimeter = circle.perimeter()\n",
    "\n",
    "print(f\"Circle with radius {radius} has an area of: {area:.2f}\")\n",
    "print(f\"Circle with radius {radius} has a perimeter of: {perimeter:.2f}\")"
   ]
  },
  {
   "cell_type": "code",
   "execution_count": 27,
   "metadata": {},
   "outputs": [
    {
     "name": "stdout",
     "output_type": "stream",
     "text": [
      "The class name of the instance is: SampleClass\n"
     ]
    }
   ],
   "source": [
    "#12. Write a Python program to get the class name of an instance in Python.\n",
    "\n",
    "class SampleClass:\n",
    "    pass\n",
    "\n",
    "instance = SampleClass()\n",
    "\n",
    "class_name = instance.__class__.__name__\n",
    "\n",
    "print(f\"The class name of the instance is: {class_name}\")"
   ]
  },
  {
   "cell_type": "markdown",
   "metadata": {},
   "source": [
    "Python class, Real-life problems 4 exercises"
   ]
  },
  {
   "cell_type": "code",
   "execution_count": 29,
   "metadata": {},
   "outputs": [
    {
     "data": {
      "text/plain": [
       "('SMITH', 'E7698', 55000, 'OPERATIONS')"
      ]
     },
     "execution_count": 29,
     "metadata": {},
     "output_type": "execute_result"
    }
   ],
   "source": [
    "#1. Write a Python class Employee with attributes like emp_id, emp_name, emp_salary, \n",
    "# and emp_department and methods like calculate_emp_salary, emp_assign_department, and print_employee_details.\n",
    "# Sample Employee_Data:\n",
    "\"ADAMS\", \"E7876\", 50000, \"ACCOUNTING\"\n",
    "\"JONES\", \"E7499\", 45000, \"RESEARCH\"\n",
    "\"MARTIN\", \"E7900\", 50000, \"SALES\"\n",
    "\"SMITH\", \"E7698\", 55000, \"OPERATIONS\"\n",
    "\n",
    "# Use 'assign_department' method to change the department of an employee.\n",
    "# Use 'print_employee_details' method to print the details of an employee.\n",
    "# Use 'calculate_emp_salary' method takes two arguments: salary and hours_worked, which is the number of hours worked by the employee. \n",
    "# If the number of hours worked is more than 50, the method computes overtime and adds it to the salary. \n",
    "# Overtime is calculated as following formula:\n",
    "# overtime = hours_worked - 50\n",
    "# Overtime amount = (overtime * (salary / 50))"
   ]
  },
  {
   "cell_type": "code",
   "execution_count": 30,
   "metadata": {},
   "outputs": [],
   "source": [
    "#2. Write a Python class Restaurant with attributes like menu_items, book_table, and customer_orders, \n",
    "# and methods like add_item_to_menu, book_tables, and customer_order.\n",
    "# Perform the following tasks now:\n",
    "\n",
    "# Now add items to the menu.\n",
    "# Make table reservations.\n",
    "# Take customer orders.\n",
    "# Print the menu.\n",
    "# Print table reservations.\n",
    "# Print customer orders.\n",
    "# Note: Use dictionaries and lists to store the data."
   ]
  },
  {
   "cell_type": "code",
   "execution_count": 25,
   "metadata": {},
   "outputs": [],
   "source": [
    "#3. Write a  Python class BankAccount with attributes like account_number, balance, date_of_opening and customer_name, \n",
    "# and methods like deposit, withdraw, and check_balance."
   ]
  },
  {
   "cell_type": "code",
   "execution_count": null,
   "metadata": {},
   "outputs": [],
   "source": [
    "#4. Write a Python class Inventory with attributes like item_id, item_name, stock_count, and price, \n",
    "# and methods like add_item, update_item, and check_item_details.\n",
    "# Use a dictionary to store the item details, where the key is the item_id and the value is a dictionary containing the item_name,\n",
    "#  stock_count, and price."
   ]
  }
 ],
 "metadata": {
  "kernelspec": {
   "display_name": "Python 3",
   "language": "python",
   "name": "python3"
  },
  "language_info": {
   "codemirror_mode": {
    "name": "ipython",
    "version": 3
   },
   "file_extension": ".py",
   "mimetype": "text/x-python",
   "name": "python",
   "nbconvert_exporter": "python",
   "pygments_lexer": "ipython3",
   "version": "3.12.8"
  }
 },
 "nbformat": 4,
 "nbformat_minor": 2
}
