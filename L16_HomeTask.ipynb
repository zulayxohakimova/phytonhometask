{
 "cells": [
  {
   "cell_type": "markdown",
   "metadata": {},
   "source": [
    "### HomeTask 16: Python Multi-threading and Concurrency: 7 Exercises"
   ]
  },
  {
   "cell_type": "markdown",
   "metadata": {},
   "source": [
    "Python multi-threading and concurrency refer to techniques and concepts used to achieve parallel execution \n",
    "\n",
    "and improve Python programs' performance by running multiple threads or tasks concurrently. \n",
    "\n",
    "These techniques are essential for optimizing performance, handling I/O-bound tasks efficiently, \n",
    "\n",
    "and achieving parallelism or concurrency in Python programs."
   ]
  },
  {
   "cell_type": "code",
   "execution_count": null,
   "metadata": {},
   "outputs": [],
   "source": [
    "# 1. Write a Python program to create multiple threads and print their names.\n",
    "import threading\n",
    "\n",
    "def multiple_threads():\n",
    "    print(\"Thread name:\", threading.current_thread().name)\n",
    "\n",
    "threads = []\n",
    "for a in range(7):\n",
    "    thread = threading.Thread(target=multiple_threads)\n",
    "    threads.append(thread)\n",
    "    thread.start()\n",
    "\n",
    "for thread in threads:\n",
    "    thread.join()"
   ]
  },
  {
   "cell_type": "code",
   "execution_count": 4,
   "metadata": {},
   "outputs": [
    {
     "name": "stdout",
     "output_type": "stream",
     "text": [
      "Current File Downloaded: bDqXMfdiMDs\n",
      "Current File Downloaded: f3v0kxC3dfw\n",
      "Current File Downloaded: jpNvizDB0p2\n",
      "All files have been downloaded.\n"
     ]
    }
   ],
   "source": [
    "# 2. Write a Python program to download multiple files concurrently using threads.\n",
    "\n",
    "import threading\n",
    "import requests\n",
    "\n",
    "def dow_files(url):\n",
    "    response = requests.get(url)\n",
    "    file_name = url.split('/')[-1]  \n",
    "    with open(file_name, 'wb') as f:\n",
    "        f.write(response.content)\n",
    "    print(f'Current File Downloaded: {file_name}')\n",
    "\n",
    "urls = [\n",
    "    'https://sl.bing.net/jpNvizDB0p2',\n",
    "    'https://sl.bing.net/f3v0kxC3dfw',\n",
    "    'https://sl.bing.net/bDqXMfdiMDs',\n",
    "]\n",
    "\n",
    "threads = []\n",
    "for url in urls:\n",
    "    thread = threading.Thread(target=dow_files, args=(url,))\n",
    "    thread.start()  \n",
    "    threads.append(thread)  \n",
    "\n",
    "for thread in threads:\n",
    "    thread.join()\n",
    "\n",
    "print(\"All files have been downloaded.\")"
   ]
  },
  {
   "cell_type": "code",
   "execution_count": 5,
   "metadata": {},
   "outputs": [
    {
     "name": "stdout",
     "output_type": "stream",
     "text": [
      "Evens in range 30-50: [30, 32, 34, 36, 38, 40, 42, 44, 46, 48]\n",
      "Odds in range 30-50: [31, 33, 35, 37, 39, 41, 43, 45, 47, 49]\n"
     ]
    }
   ],
   "source": [
    "# 3. Write a Python program that creates two threads to find and print even and odd numbers from 30 to 50\n",
    "\n",
    "import threading\n",
    "\n",
    "def even_odd(number):\n",
    "    return number % 2 == 0\n",
    "\n",
    "def check_evens(start, end):\n",
    "    evens = [number for number in range(start, end) if even_odd(number)]\n",
    "    print(f'Evens in range {start}-{end}: {evens}')\n",
    "\n",
    "def check_odds(start, end):\n",
    "    odds = [number for number in range(start, end) if not even_odd(number)]\n",
    "    print(f'Odds in range {start}-{end}: {odds}')   \n",
    "\n",
    "def main():\n",
    "    start = 30\n",
    "    end = 50\n",
    "\n",
    "    thread1 = threading.Thread(target=check_evens, args=(start, end))\n",
    "    thread2 = threading.Thread(target=check_odds, args=(start, end))\n",
    "\n",
    "    thread1.start()\n",
    "    thread2.start()\n",
    "\n",
    "    thread1.join()\n",
    "    thread2.join()\n",
    "\n",
    "if __name__ == \"__main__\":\n",
    "    main()"
   ]
  },
  {
   "cell_type": "code",
   "execution_count": 1,
   "metadata": {},
   "outputs": [
    {
     "name": "stdout",
     "output_type": "stream",
     "text": [
      "Factorial of 9 in thread Thread-58 (cal_factorial)\n",
      "is 362880\n",
      "Factorial of 9 in thread Thread-59 (cal_factorial)\n",
      "is 362880\n"
     ]
    }
   ],
   "source": [
    "# 4. Write a Python program to calculate the factorial of a number using multiple threads.\n",
    "\n",
    "import threading\n",
    "\n",
    "def factorial_num(num):\n",
    "    if num < 0:\n",
    "        return \"no Factorial of negatives.\"\n",
    "    elif num == 0 or num == 1:\n",
    "        return 1\n",
    "    else:\n",
    "        result = 1\n",
    "        for i in range(2, num + 1):\n",
    "            result *= i\n",
    "        return result\n",
    "\n",
    "def cal_factorial(num):\n",
    "    print(f'Factorial of {num} in thread {threading.current_thread().name}')\n",
    "    result = factorial_num(num)\n",
    "    print(f'is {result}')\n",
    "\n",
    "num = 9\n",
    "\n",
    "thread_a = threading.Thread(target=cal_factorial, args=(num, ))\n",
    "thread_b = threading.Thread(target=cal_factorial, args=(num, ))\n",
    "\n",
    "thread_a.start()\n",
    "thread_b.start()\n",
    "\n",
    "thread_a.join()\n",
    "thread_b.join()"
   ]
  },
  {
   "cell_type": "code",
   "execution_count": null,
   "metadata": {},
   "outputs": [
    {
     "name": "stdout",
     "output_type": "stream",
     "text": [
      "Original array: [38, 27, 43, 3, 9, 82, 10]\n",
      "Sorted array: [3, 9, 10, 27, 38, 43, 82]\n"
     ]
    }
   ],
   "source": [
    "# 5. Write a Python program to implement a multi-threaded merge sort algorithm.\n",
    "\n",
    "import threading\n",
    "\n",
    "def merging(array, l, mid, r):\n",
    "    l_half = array[l:mid + 1]\n",
    "    r_half = array[mid + 1:r + 1]\n",
    "    \n",
    "    i = j = 0\n",
    "    k = l\n",
    "    \n",
    "    while i < len(l_half) and j < len(r_half):\n",
    "        if l_half[i] <= r_half[j]:\n",
    "            array[k] = l_half[i]\n",
    "            i += 1\n",
    "        else:\n",
    "            array[k] = r_half[j]\n",
    "            j += 1\n",
    "        k += 1\n",
    "\n",
    "    while i < len(l_half):\n",
    "        array[k] = l_half[i]\n",
    "        i += 1\n",
    "        k += 1\n",
    "\n",
    "    while j < len(r_half):\n",
    "        array[k] = r_half[j]\n",
    "        j += 1\n",
    "        k += 1\n",
    "\n",
    "def merging_sorting(array, l, r):\n",
    "    if l < r:\n",
    "        mid = (l + r) // 2\n",
    "\n",
    "        l_thread = threading.Thread(target=merging_sorting, args=(array, l, mid))\n",
    "        r_thread = threading.Thread(target=merging_sorting, args=(array, mid + 1, r))\n",
    "\n",
    "        l_thread.start()\n",
    "        r_thread.start()\n",
    "\n",
    "        l_thread.join()\n",
    "        r_thread.join()\n",
    "\n",
    "        merging(array, l, mid, r)\n",
    "\n",
    "if __name__ == \"__main__\":\n",
    "    array = [38, 77, 43, 3, 9, 22, 10]\n",
    "    print(\"Original array:\", array)\n",
    "    \n",
    "    merging_sorting(array, 0, len(array) - 1)\n",
    "    \n",
    "    print(\"Sorted array:\", array)"
   ]
  },
  {
   "cell_type": "code",
   "execution_count": 3,
   "metadata": {},
   "outputs": [
    {
     "name": "stdout",
     "output_type": "stream",
     "text": [
      "Original array: [18, 27, 44, 3, 9, 83, 30]\n",
      "Sorted array: [3, 9, 18, 27, 30, 44, 83]\n"
     ]
    }
   ],
   "source": [
    "# 6. Write a Python program to implement a multi-threaded quicksort algorithm.\n",
    "\n",
    "import threading\n",
    "\n",
    "def partitioning(array, low, high):\n",
    "    pivot = array[high]\n",
    "    i = low - 1\n",
    "    for j in range(low, high):\n",
    "        if array[j] <= pivot:\n",
    "            i += 1\n",
    "            array[i], array[j] = array[j], array[i]\n",
    "    array[i + 1], array[high] = array[high], array[i + 1]\n",
    "    return i + 1\n",
    "\n",
    "def quick_sort(array, low, high):\n",
    "    if low < high:\n",
    "        pi = partitioning(array, low, high)\n",
    "\n",
    "        l_thread = threading.Thread(target=quick_sort, args=(array, low, pi - 1))\n",
    "        r_thread = threading.Thread(target=quick_sort, args=(array, pi + 1, high))\n",
    "\n",
    "        l_thread.start()\n",
    "        r_thread.start()\n",
    "\n",
    "        l_thread.join()\n",
    "        r_thread.join()\n",
    "\n",
    "if __name__ == \"__main__\":\n",
    "    array = [18, 27, 44, 3, 9, 83, 30]\n",
    "    print(\"Original array:\", array)\n",
    "\n",
    "    quick_sort(array, 0, len(array) - 1)\n",
    "\n",
    "    print(\"Sorted array:\", array)"
   ]
  },
  {
   "cell_type": "code",
   "execution_count": 4,
   "metadata": {},
   "outputs": [
    {
     "name": "stdout",
     "output_type": "stream",
     "text": [
      "URL: https://www.python.org | Status Code: 200\n",
      "URL: https://www.openai.com | Status Code: 403\n",
      "URL: https://www.facebook.com | Status Code: 200\n",
      "URL: https://www.github.com | Status Code: 200\n"
     ]
    }
   ],
   "source": [
    "# 7. Write a Python program that performs concurrent HTTP requests using threads.\n",
    "\n",
    "import threading\n",
    "import requests\n",
    "\n",
    "def fetching_url(url):\n",
    "    try:\n",
    "        responsed = requests.get(url)\n",
    "        print(f'URL: {url} | Status Code: {responsed.status_code}')\n",
    "    except requests.exceptions.RequestException as re:\n",
    "        print(f'URL: {url} | Error: {re}')\n",
    "\n",
    "def main(urls):\n",
    "    threads = []\n",
    "    \n",
    "    for i in urls:\n",
    "        thread = threading.Thread(target=fetching_url, args=(i,))\n",
    "        threads.append(thread)\n",
    "        thread.start()\n",
    "\n",
    "    for thread in threads:\n",
    "        thread.join()\n",
    "\n",
    "if __name__ == \"__main__\":\n",
    "    urls_f = [\n",
    "        'https://www.facebook.com',\n",
    "        'https://www.python.org',\n",
    "        'https://www.github.com',\n",
    "        'https://www.openai.com'\n",
    "    ]\n",
    "    \n",
    "    main(urls_f)"
   ]
  }
 ],
 "metadata": {
  "kernelspec": {
   "display_name": "Python 3",
   "language": "python",
   "name": "python3"
  },
  "language_info": {
   "codemirror_mode": {
    "name": "ipython",
    "version": 3
   },
   "file_extension": ".py",
   "mimetype": "text/x-python",
   "name": "python",
   "nbconvert_exporter": "python",
   "pygments_lexer": "ipython3",
   "version": "3.12.8"
  }
 },
 "nbformat": 4,
 "nbformat_minor": 2
}
