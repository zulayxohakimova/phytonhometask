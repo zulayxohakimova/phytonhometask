{
 "cells": [
  {
   "attachments": {},
   "cell_type": "markdown",
   "metadata": {},
   "source": [
    "## Homework:\n",
    "\n",
    "### DataFrame 1: Student Grades"
   ]
  },
  {
   "cell_type": "code",
   "execution_count": 13,
   "metadata": {},
   "outputs": [],
   "source": [
    "import pandas as pd\n",
    "\n",
    "data1 = {\n",
    "    'Student_ID': [1, 2, 3, 4, 5, 6, 7, 8, 9, 10],\n",
    "    'Math': [85, 90, 78, 92, 88, 95, 89, 79, 83, 91],\n",
    "    'English': [78, 85, 88, 80, 92, 87, 90, 84, 79, 88],\n",
    "    'Science': [90, 92, 85, 88, 94, 79, 83, 91, 87, 89]\n",
    "}  \n",
    "\n",
    "df1 = pd.DataFrame(data1)"
   ]
  },
  {
   "attachments": {},
   "cell_type": "markdown",
   "metadata": {},
   "source": [
    "Exercise 1: Calculate the average grade for each student.\n",
    "\n",
    "Exercise 2: Find the student with the highest average grade.\n",
    "\n",
    "Exercise 3: Create a new column 'Total' representing the total marks obtained by each student.\n",
    "\n",
    "Exercise 4: Plot a bar chart to visualize the average grades in each subject."
   ]
  },
  {
   "cell_type": "code",
   "execution_count": null,
   "metadata": {},
   "outputs": [
    {
     "name": "stdout",
     "output_type": "stream",
     "text": [
      "{1: 84.33333333333333, 2: 89.0, 3: 83.66666666666667, 4: 86.66666666666667, 5: 91.33333333333333, 6: 87.0, 7: 87.33333333333333, 8: 84.66666666666667, 9: 83.0, 10: 89.33333333333333}\n"
     ]
    }
   ],
   "source": [
    "#1\n",
    "df1['avg_score'] = df1[['Math', 'English', 'Science']].mean(axis=1)\n",
    "\n",
    "\n",
    "dict_avg_scr = df1.set_index('Student_ID')['avg_score'].to_dict()\n",
    "\n",
    "print(dict_avg_scr)"
   ]
  },
  {
   "cell_type": "code",
   "execution_count": 33,
   "metadata": {},
   "outputs": [
    {
     "name": "stdout",
     "output_type": "stream",
     "text": [
      "(5,) 91.33333333333333\n"
     ]
    }
   ],
   "source": [
    "#2\n",
    "top_score = max(dict_avg_scr.values())\n",
    "top_student = tuple(student for student, score in dict_avg_scr.items() if score == top_score) \n",
    "print(top_student , top_score)"
   ]
  },
  {
   "cell_type": "code",
   "execution_count": 35,
   "metadata": {},
   "outputs": [
    {
     "data": {
      "text/html": [
       "<div>\n",
       "<style scoped>\n",
       "    .dataframe tbody tr th:only-of-type {\n",
       "        vertical-align: middle;\n",
       "    }\n",
       "\n",
       "    .dataframe tbody tr th {\n",
       "        vertical-align: top;\n",
       "    }\n",
       "\n",
       "    .dataframe thead th {\n",
       "        text-align: right;\n",
       "    }\n",
       "</style>\n",
       "<table border=\"1\" class=\"dataframe\">\n",
       "  <thead>\n",
       "    <tr style=\"text-align: right;\">\n",
       "      <th></th>\n",
       "      <th>Student_ID</th>\n",
       "      <th>Math</th>\n",
       "      <th>English</th>\n",
       "      <th>Science</th>\n",
       "      <th>Average_Score</th>\n",
       "      <th>avg_score</th>\n",
       "      <th>Total</th>\n",
       "    </tr>\n",
       "  </thead>\n",
       "  <tbody>\n",
       "    <tr>\n",
       "      <th>0</th>\n",
       "      <td>1</td>\n",
       "      <td>85</td>\n",
       "      <td>78</td>\n",
       "      <td>90</td>\n",
       "      <td>84.333333</td>\n",
       "      <td>84.333333</td>\n",
       "      <td>253</td>\n",
       "    </tr>\n",
       "    <tr>\n",
       "      <th>1</th>\n",
       "      <td>2</td>\n",
       "      <td>90</td>\n",
       "      <td>85</td>\n",
       "      <td>92</td>\n",
       "      <td>89.000000</td>\n",
       "      <td>89.000000</td>\n",
       "      <td>267</td>\n",
       "    </tr>\n",
       "    <tr>\n",
       "      <th>2</th>\n",
       "      <td>3</td>\n",
       "      <td>78</td>\n",
       "      <td>88</td>\n",
       "      <td>85</td>\n",
       "      <td>83.666667</td>\n",
       "      <td>83.666667</td>\n",
       "      <td>251</td>\n",
       "    </tr>\n",
       "    <tr>\n",
       "      <th>3</th>\n",
       "      <td>4</td>\n",
       "      <td>92</td>\n",
       "      <td>80</td>\n",
       "      <td>88</td>\n",
       "      <td>86.666667</td>\n",
       "      <td>86.666667</td>\n",
       "      <td>260</td>\n",
       "    </tr>\n",
       "    <tr>\n",
       "      <th>4</th>\n",
       "      <td>5</td>\n",
       "      <td>88</td>\n",
       "      <td>92</td>\n",
       "      <td>94</td>\n",
       "      <td>91.333333</td>\n",
       "      <td>91.333333</td>\n",
       "      <td>274</td>\n",
       "    </tr>\n",
       "    <tr>\n",
       "      <th>5</th>\n",
       "      <td>6</td>\n",
       "      <td>95</td>\n",
       "      <td>87</td>\n",
       "      <td>79</td>\n",
       "      <td>87.000000</td>\n",
       "      <td>87.000000</td>\n",
       "      <td>261</td>\n",
       "    </tr>\n",
       "    <tr>\n",
       "      <th>6</th>\n",
       "      <td>7</td>\n",
       "      <td>89</td>\n",
       "      <td>90</td>\n",
       "      <td>83</td>\n",
       "      <td>87.333333</td>\n",
       "      <td>87.333333</td>\n",
       "      <td>262</td>\n",
       "    </tr>\n",
       "    <tr>\n",
       "      <th>7</th>\n",
       "      <td>8</td>\n",
       "      <td>79</td>\n",
       "      <td>84</td>\n",
       "      <td>91</td>\n",
       "      <td>84.666667</td>\n",
       "      <td>84.666667</td>\n",
       "      <td>254</td>\n",
       "    </tr>\n",
       "    <tr>\n",
       "      <th>8</th>\n",
       "      <td>9</td>\n",
       "      <td>83</td>\n",
       "      <td>79</td>\n",
       "      <td>87</td>\n",
       "      <td>83.000000</td>\n",
       "      <td>83.000000</td>\n",
       "      <td>249</td>\n",
       "    </tr>\n",
       "    <tr>\n",
       "      <th>9</th>\n",
       "      <td>10</td>\n",
       "      <td>91</td>\n",
       "      <td>88</td>\n",
       "      <td>89</td>\n",
       "      <td>89.333333</td>\n",
       "      <td>89.333333</td>\n",
       "      <td>268</td>\n",
       "    </tr>\n",
       "  </tbody>\n",
       "</table>\n",
       "</div>"
      ],
      "text/plain": [
       "   Student_ID  Math  English  Science  Average_Score  avg_score  Total\n",
       "0           1    85       78       90      84.333333  84.333333    253\n",
       "1           2    90       85       92      89.000000  89.000000    267\n",
       "2           3    78       88       85      83.666667  83.666667    251\n",
       "3           4    92       80       88      86.666667  86.666667    260\n",
       "4           5    88       92       94      91.333333  91.333333    274\n",
       "5           6    95       87       79      87.000000  87.000000    261\n",
       "6           7    89       90       83      87.333333  87.333333    262\n",
       "7           8    79       84       91      84.666667  84.666667    254\n",
       "8           9    83       79       87      83.000000  83.000000    249\n",
       "9          10    91       88       89      89.333333  89.333333    268"
      ]
     },
     "execution_count": 35,
     "metadata": {},
     "output_type": "execute_result"
    }
   ],
   "source": [
    "#3\n",
    "df1['Total'] = df1[['Math', 'English', 'Science']].sum(axis=1)\n",
    "df1"
   ]
  },
  {
   "cell_type": "code",
   "execution_count": null,
   "metadata": {},
   "outputs": [
    {
     "data": {
      "image/png": "[encoded data removed]",
      "text/plain": [
       "<Figure size 640x480 with 1 Axes>"
      ]
     },
     "metadata": {},
     "output_type": "display_data"
    }
   ],
   "source": [
    "#4\n",
    "import matplotlib.pyplot as plt\n",
    "\n",
    "subject_avg = df1[['Math', 'English', 'Science']].mean()\n",
    "subject_avg.plot(kind='bar', color='skyblue', width=0.5)\n",
    "\n",
    "plt.show()"
   ]
  },
  {
   "attachments": {},
   "cell_type": "markdown",
   "metadata": {},
   "source": [
    "### DataFrame 2: Sales Data"
   ]
  },
  {
   "cell_type": "code",
   "execution_count": 55,
   "metadata": {},
   "outputs": [],
   "source": [
    "import pandas as pd\n",
    "\n",
    "data2 = {\n",
    "    'Date': pd.date_range(start='2023-01-01', periods=10),\n",
    "    'Product_A': [120, 150, 130, 110, 140, 160, 135, 125, 145, 155],\n",
    "    'Product_B': [90, 110, 100, 80, 95, 105, 98, 88, 102, 112],\n",
    "    'Product_C': [75, 80, 85, 70, 88, 92, 78, 82, 87, 90]\n",
    "}\n",
    "\n",
    "df2 = pd.DataFrame(data2)"
   ]
  },
  {
   "attachments": {},
   "cell_type": "markdown",
   "metadata": {},
   "source": [
    "Exercise 1: Calculate the total sales for each product.\n",
    "\n",
    "Exercise 2: Find the date with the highest total sales.\n",
    "\n",
    "Exercise 3: Calculate the percentage change in sales for each product from the previous day.\n",
    "\n",
    "Exercise 4: Plot a line chart to visualize the sales trends for each product over time."
   ]
  },
  {
   "cell_type": "code",
   "execution_count": null,
   "metadata": {},
   "outputs": [
    {
     "data": {
      "text/html": [
       "<div>\n",
       "<style scoped>\n",
       "    .dataframe tbody tr th:only-of-type {\n",
       "        vertical-align: middle;\n",
       "    }\n",
       "\n",
       "    .dataframe tbody tr th {\n",
       "        vertical-align: top;\n",
       "    }\n",
       "\n",
       "    .dataframe thead th {\n",
       "        text-align: right;\n",
       "    }\n",
       "</style>\n",
       "<table border=\"1\" class=\"dataframe\">\n",
       "  <thead>\n",
       "    <tr style=\"text-align: right;\">\n",
       "      <th></th>\n",
       "      <th>Date</th>\n",
       "      <th>Product_A</th>\n",
       "      <th>Product_B</th>\n",
       "      <th>Product_C</th>\n",
       "      <th>Total_sales</th>\n",
       "    </tr>\n",
       "  </thead>\n",
       "  <tbody>\n",
       "    <tr>\n",
       "      <th>0</th>\n",
       "      <td>2023-01-01</td>\n",
       "      <td>120</td>\n",
       "      <td>90</td>\n",
       "      <td>75</td>\n",
       "      <td>285</td>\n",
       "    </tr>\n",
       "    <tr>\n",
       "      <th>1</th>\n",
       "      <td>2023-01-02</td>\n",
       "      <td>150</td>\n",
       "      <td>110</td>\n",
       "      <td>80</td>\n",
       "      <td>340</td>\n",
       "    </tr>\n",
       "    <tr>\n",
       "      <th>2</th>\n",
       "      <td>2023-01-03</td>\n",
       "      <td>130</td>\n",
       "      <td>100</td>\n",
       "      <td>85</td>\n",
       "      <td>315</td>\n",
       "    </tr>\n",
       "    <tr>\n",
       "      <th>3</th>\n",
       "      <td>2023-01-04</td>\n",
       "      <td>110</td>\n",
       "      <td>80</td>\n",
       "      <td>70</td>\n",
       "      <td>260</td>\n",
       "    </tr>\n",
       "    <tr>\n",
       "      <th>4</th>\n",
       "      <td>2023-01-05</td>\n",
       "      <td>140</td>\n",
       "      <td>95</td>\n",
       "      <td>88</td>\n",
       "      <td>323</td>\n",
       "    </tr>\n",
       "    <tr>\n",
       "      <th>5</th>\n",
       "      <td>2023-01-06</td>\n",
       "      <td>160</td>\n",
       "      <td>105</td>\n",
       "      <td>92</td>\n",
       "      <td>357</td>\n",
       "    </tr>\n",
       "    <tr>\n",
       "      <th>6</th>\n",
       "      <td>2023-01-07</td>\n",
       "      <td>135</td>\n",
       "      <td>98</td>\n",
       "      <td>78</td>\n",
       "      <td>311</td>\n",
       "    </tr>\n",
       "    <tr>\n",
       "      <th>7</th>\n",
       "      <td>2023-01-08</td>\n",
       "      <td>125</td>\n",
       "      <td>88</td>\n",
       "      <td>82</td>\n",
       "      <td>295</td>\n",
       "    </tr>\n",
       "    <tr>\n",
       "      <th>8</th>\n",
       "      <td>2023-01-09</td>\n",
       "      <td>145</td>\n",
       "      <td>102</td>\n",
       "      <td>87</td>\n",
       "      <td>334</td>\n",
       "    </tr>\n",
       "    <tr>\n",
       "      <th>9</th>\n",
       "      <td>2023-01-10</td>\n",
       "      <td>155</td>\n",
       "      <td>112</td>\n",
       "      <td>90</td>\n",
       "      <td>357</td>\n",
       "    </tr>\n",
       "  </tbody>\n",
       "</table>\n",
       "</div>"
      ],
      "text/plain": [
       "        Date  Product_A  Product_B  Product_C  Total_sales\n",
       "0 2023-01-01        120         90         75          285\n",
       "1 2023-01-02        150        110         80          340\n",
       "2 2023-01-03        130        100         85          315\n",
       "3 2023-01-04        110         80         70          260\n",
       "4 2023-01-05        140         95         88          323\n",
       "5 2023-01-06        160        105         92          357\n",
       "6 2023-01-07        135         98         78          311\n",
       "7 2023-01-08        125         88         82          295\n",
       "8 2023-01-09        145        102         87          334\n",
       "9 2023-01-10        155        112         90          357"
      ]
     },
     "execution_count": 57,
     "metadata": {},
     "output_type": "execute_result"
    }
   ],
   "source": [
    "#1\n",
    "df2['Total_sales'] = df2[['Product_A', 'Product_B', 'Product_C']].sum(axis=1)\n",
    "df2"
   ]
  },
  {
   "cell_type": "code",
   "execution_count": 67,
   "metadata": {},
   "outputs": [
    {
     "name": "stdout",
     "output_type": "stream",
     "text": [
      "2023-01-06 00:00:00 357\n",
      "2023-01-10 00:00:00 357\n"
     ]
    }
   ],
   "source": [
    "#2\n",
    "highest_ts = df2['Total_sales'].max()\n",
    "for index, row in df2.iterrows():\n",
    "    if row['Total_sales'] == highest_ts:\n",
    "        print(row['Date'], highest_ts)"
   ]
  },
  {
   "cell_type": "code",
   "execution_count": 71,
   "metadata": {},
   "outputs": [
    {
     "name": "stdout",
     "output_type": "stream",
     "text": [
      "            Product_A  Product_B  Product_C  Total_sales\n",
      "Date                                                    \n",
      "2023-01-01        120         90         75          285\n",
      "2023-01-02        150        110         80          340\n",
      "2023-01-03        130        100         85          315\n",
      "2023-01-04        110         80         70          260\n",
      "2023-01-05        140         95         88          323\n",
      "2023-01-06        160        105         92          357\n",
      "2023-01-07        135         98         78          311\n",
      "2023-01-08        125         88         82          295\n",
      "2023-01-09        145        102         87          334\n",
      "2023-01-10        155        112         90          357\n",
      "           Product_A_pct_ch Product_B_pct_ch Product_C_pct_ch\n",
      "Date                                                         \n",
      "2023-01-01              NaN              NaN              NaN\n",
      "2023-01-02             25.0        22.222222         6.666667\n",
      "2023-01-03       -13.333333        -9.090909             6.25\n",
      "2023-01-04       -15.384615            -20.0       -17.647059\n",
      "2023-01-05        27.272727            18.75        25.714286\n",
      "2023-01-06        14.285714        10.526316         4.545455\n",
      "2023-01-07          -15.625        -6.666667       -15.217391\n",
      "2023-01-08        -7.407407       -10.204082         5.128205\n",
      "2023-01-09             16.0        15.909091         6.097561\n",
      "2023-01-10         6.896552         9.803922         3.448276\n"
     ]
    },
    {
     "name": "stderr",
     "output_type": "stream",
     "text": [
      "C:\\Users\\Dell\\AppData\\Local\\Temp\\ipykernel_26692\\379160028.py:7: FutureWarning: ChainedAssignmentError: behaviour will change in pandas 3.0!\n",
      "You are setting values through chained assignment. Currently this works in certain cases, but when using Copy-on-Write (which will become the default behaviour in pandas 3.0) this will never work to update the original DataFrame or Series, because the intermediate object on which we are setting values will behave as a copy.\n",
      "A typical example is when you are setting values in a column of a DataFrame, like:\n",
      "\n",
      "df[\"col\"][row_indexer] = value\n",
      "\n",
      "Use `df.loc[row_indexer, \"col\"] = values` instead, to perform the assignment in a single step and ensure this keeps updating the original `df`.\n",
      "\n",
      "See the caveats in the documentation: https://pandas.pydata.org/pandas-docs/stable/user_guide/indexing.html#returning-a-view-versus-a-copy\n",
      "\n",
      "  pct_change[c + '_pct_ch'].iloc[i] = ((new_value - old_value)/old_value)*100\n"
     ]
    }
   ],
   "source": [
    "#3\n",
    "pct_change = pd.DataFrame(index = df2.index,columns = ['Product_A_pct_ch', 'Product_B_pct_ch', 'Product_C_pct_ch'])\n",
    "for c in ['Product_A', 'Product_B', 'Product_C']:\n",
    "    for i in range(1, len(df2)):\n",
    "        old_value = df2[c].iloc[i-1]\n",
    "        new_value = df2[c].iloc[i]\n",
    "        pct_change[c + '_pct_ch'].iloc[i] = ((new_value - old_value)/old_value)*100\n",
    "print(df2)\n",
    "print(pct_change)        "
   ]
  },
  {
   "cell_type": "code",
   "execution_count": 109,
   "metadata": {},
   "outputs": [
    {
     "data": {
      "image/png": "[encoded data removed]",
      "text/plain": [
       "<Figure size 1000x500 with 1 Axes>"
      ]
     },
     "metadata": {},
     "output_type": "display_data"
    }
   ],
   "source": [
    "#4\n",
    "plt.figure(figsize=(10, 5))\n",
    "for column in ['Product_A', 'Product_B', 'Product_C']:\n",
    "    plt.plot(df2.index, df2[column], marker='o', label=column)"
   ]
  },
  {
   "attachments": {},
   "cell_type": "markdown",
   "metadata": {},
   "source": [
    "### DataFrame 3: Employee Information"
   ]
  },
  {
   "cell_type": "code",
   "execution_count": 75,
   "metadata": {},
   "outputs": [],
   "source": [
    "import pandas as pd\n",
    "\n",
    "data3 = {\n",
    "    'Employee_ID': [101, 102, 103, 104, 105, 106, 107, 108, 109, 110],\n",
    "    'Name': ['Alice', 'Bob', 'Charlie', 'David', 'Emma', 'Frank', 'Grace', 'Hank', 'Ivy', 'Jack'],\n",
    "    'Department': ['HR', 'IT', 'Marketing', 'IT', 'Finance', 'HR', 'Marketing', 'IT', 'Finance', 'Marketing'],\n",
    "    'Salary': [60000, 75000, 65000, 80000, 70000, 72000, 68000, 78000, 69000, 76000],\n",
    "    'Experience (Years)': [3, 5, 2, 8, 4, 6, 3, 7, 2, 5]\n",
    "}\n",
    "\n",
    "df3 = pd.DataFrame(data3)"
   ]
  },
  {
   "attachments": {},
   "cell_type": "markdown",
   "metadata": {},
   "source": [
    "Exercise 1: Calculate the average salary for each department.\n",
    "\n",
    "Exercise 2: Find the employee with the most experience.\n",
    "\n",
    "Exercise 3: Create a new column 'Salary Increase' representing the percentage increase in salary from the minimum salary in the dataframe.\n",
    "\n",
    "Exercise 4: Plot a bar chart to visualize the distribution of employees across different departments."
   ]
  },
  {
   "cell_type": "code",
   "execution_count": 91,
   "metadata": {},
   "outputs": [
    {
     "name": "stdout",
     "output_type": "stream",
     "text": [
      "Department\n",
      "Finance      69500.000000\n",
      "HR           66000.000000\n",
      "IT           77666.666667\n",
      "Marketing    69666.666667\n",
      "Name: Salary, dtype: float64\n",
      "David 8\n",
      "   Employee_ID     Name Department  Salary  Experience (Years)  \\\n",
      "0          101    Alice         HR   60000                   3   \n",
      "1          102      Bob         IT   75000                   5   \n",
      "2          103  Charlie  Marketing   65000                   2   \n",
      "3          104    David         IT   80000                   8   \n",
      "4          105     Emma    Finance   70000                   4   \n",
      "5          106    Frank         HR   72000                   6   \n",
      "6          107    Grace  Marketing   68000                   3   \n",
      "7          108     Hank         IT   78000                   7   \n",
      "8          109      Ivy    Finance   69000                   2   \n",
      "9          110     Jack  Marketing   76000                   5   \n",
      "\n",
      "   Salary Increase  \n",
      "0         0.000000  \n",
      "1        25.000000  \n",
      "2         8.333333  \n",
      "3        33.333333  \n",
      "4        16.666667  \n",
      "5        20.000000  \n",
      "6        13.333333  \n",
      "7        30.000000  \n",
      "8        15.000000  \n",
      "9        26.666667  \n"
     ]
    },
    {
     "data": {
      "image/png": "[encoded data removed]",
      "text/plain": [
       "<Figure size 800x500 with 1 Axes>"
      ]
     },
     "metadata": {},
     "output_type": "display_data"
    }
   ],
   "source": [
    "#1\n",
    "df3\n",
    "avg_salaries = df3.groupby('Department')['Salary'].mean()\n",
    "print(avg_salaries)\n",
    "\n",
    "#2\n",
    "max_exp = df3['Experience (Years)'].max()\n",
    "for index, row in df3.iterrows():\n",
    "    if row['Experience (Years)'] == max_exp:\n",
    "        print(row['Name'], max_exp)\n",
    "\n",
    "#3\n",
    "min_sal = df3['Salary'].min()\n",
    "df3['Salary Increase'] = ((df3['Salary'] - min_sal) / min_sal) * 100\n",
    "print(df3)\n",
    "\n",
    "#4\n",
    "dep_counts = df3['Department'].value_counts()\n",
    "plt.figure(figsize=(8, 5))\n",
    "plt.bar(dep_counts.index, dep_counts.values)\n",
    "plt.show()"
   ]
  },
  {
   "attachments": {},
   "cell_type": "markdown",
   "metadata": {},
   "source": [
    "### DataFrame 4: Customer Orders"
   ]
  },
  {
   "cell_type": "code",
   "execution_count": 93,
   "metadata": {},
   "outputs": [],
   "source": [
    "import pandas as pd\n",
    "\n",
    "data4 = {\n",
    "    'Order_ID': [101, 102, 103, 104, 105, 106, 107, 108, 109, 110],\n",
    "    'Customer_ID': [201, 202, 203, 204, 205, 206, 207, 208, 209, 210],\n",
    "    'Product': ['A', 'B', 'A', 'C', 'B', 'C', 'A', 'C', 'B', 'A'],\n",
    "    'Quantity': [2, 3, 1, 4, 2, 3, 2, 5, 1, 3],\n",
    "    'Total_Price': [120, 180, 60, 240, 160, 270, 140, 300, 90, 180]\n",
    "}\n",
    "\n",
    "df4 = pd.DataFrame(data4)"
   ]
  },
  {
   "attachments": {},
   "cell_type": "markdown",
   "metadata": {},
   "source": [
    "Exercise 1: Calculate the total revenue from all orders.\n",
    "\n",
    "Exercise 2: Find the most ordered product.\n",
    "\n",
    "Exercise 3: Calculate the average quantity of products ordered.\n",
    "\n",
    "Exercise 4: Plot a pie chart to visualize the distribution of sales across different products."
   ]
  },
  {
   "cell_type": "code",
   "execution_count": 108,
   "metadata": {},
   "outputs": [
    {
     "name": "stdout",
     "output_type": "stream",
     "text": [
      "1740\n",
      "Most ordered product: A\n",
      "Number of orders:  4\n",
      "Product\n",
      "A    2.0\n",
      "B    2.0\n",
      "C    4.0\n",
      "Name: Quantity, dtype: float64\n"
     ]
    },
    {
     "data": {
      "image/png": "[encoded data removed]",
      "text/plain": [
       "<Figure size 800x600 with 1 Axes>"
      ]
     },
     "metadata": {},
     "output_type": "display_data"
    }
   ],
   "source": [
    "#1\n",
    "total_rev = df4['Total_Price'].sum()\n",
    "print(total_rev)\n",
    "\n",
    "#2\n",
    "most_ord = df4['Product'].value_counts().idxmax()\n",
    "most_ord_count = df4['Product'].value_counts().max()\n",
    "print('Most ordered product: '  +most_ord)\n",
    "print('Number of orders: ', most_ord_count)\n",
    "\n",
    "#3\n",
    "gr_avg = df4.groupby('Product')['Quantity'].mean()\n",
    "print(gr_avg)\n",
    "\n",
    "#4\n",
    "sales_dist = df4.groupby('Product')['Total_Price'].sum()\n",
    "\n",
    "plt.figure(figsize=(8, 6))\n",
    "plt.pie(sales_dist, labels=sales_dist.index, autopct='%1.1f%%', startangle=140)\n",
    "plt.show()"
   ]
  }
 ],
 "metadata": {
  "kernelspec": {
   "display_name": "Python 3",
   "language": "python",
   "name": "python3"
  },
  "language_info": {
   "codemirror_mode": {
    "name": "ipython",
    "version": 3
   },
   "file_extension": ".py",
   "mimetype": "text/x-python",
   "name": "python",
   "nbconvert_exporter": "python",
   "pygments_lexer": "ipython3",
   "version": "3.12.8"
  },
  "orig_nbformat": 4
 },
 "nbformat": 4,
 "nbformat_minor": 2
}
