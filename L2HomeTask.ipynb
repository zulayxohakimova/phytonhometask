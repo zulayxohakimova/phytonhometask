{
 "cells": [
  {
   "cell_type": "markdown",
   "metadata": {},
   "source": [
    "Test 1"
   ]
  },
  {
   "cell_type": "markdown",
   "metadata": {
    "vscode": {
     "languageId": "latex"
    }
   },
   "source": [
    "Answers\n",
    "Q1. A sequence of character which are enclosed in single (' ') or double(\" \") quotes is known as String.\n",
    "Q2. There is no difference between 'a' and \"a\" in python.\n",
    "Q3. But there is difference between 1 and '1' in python.\n",
    "Q4. Python treats single quotes same as double quotes.\n",
    "Q5. A string with zero character is called Empty string.\n",
    "Q6. Python does not support a character type.\n",
    " "
   ]
  },
  {
   "cell_type": "code",
   "execution_count": 1,
   "metadata": {},
   "outputs": [],
   "source": [
    "# Q7\n",
    "str = \"This is Amit\\'s Blog\"\n",
    "# Q8 | str1 = \"Welcome to my blog\" , print(str1) -> Welcome to my blog\n",
    "# str2 = \"Welcome to my \\n Blog\" , print(str2) -> Welcome to my (one line below) Blog\n",
    "# Q9 | str1 = \"Welcome \\tto my Blog\" , print(str1) -> Welcome    to my Blog\n",
    "# str2 = \"Welcome to\\n my \\tBlog\" , print(str2) -> Welcome to (1line below) my    Blog\n",
    "#  Q10 | Welcome to my\n",
    "#        blog.\n",
    "#        This is for \n",
    "#        Class X\n"
   ]
  },
  {
   "cell_type": "markdown",
   "metadata": {},
   "source": [
    "Test 2 "
   ]
  },
  {
   "cell_type": "code",
   "execution_count": 2,
   "metadata": {},
   "outputs": [
    {
     "name": "stdout",
     "output_type": "stream",
     "text": [
      "Hel\n"
     ]
    }
   ],
   "source": [
    "# a\n",
    "str =\"Hello\"\n",
    "print(str[:3])"
   ]
  },
  {
   "cell_type": "code",
   "execution_count": 5,
   "metadata": {},
   "outputs": [
    {
     "name": "stdout",
     "output_type": "stream",
     "text": [
      "M\n",
      "My\n",
      "My \n",
      "My B\n",
      "My Bl\n",
      "My Blo\n",
      "My Blog\n"
     ]
    }
   ],
   "source": [
    "# b\n",
    "str='My Blog'\n",
    "a=''\n",
    "for i in range(len(str)):\n",
    "    a+=str[i]\n",
    "    print(a)"
   ]
  },
  {
   "cell_type": "code",
   "execution_count": 6,
   "metadata": {},
   "outputs": [
    {
     "name": "stdout",
     "output_type": "stream",
     "text": [
      "\n",
      "y\n",
      "BB\n",
      "lll\n",
      "oooo\n",
      "ggggg\n"
     ]
    }
   ],
   "source": [
    "# c\n",
    "str='MyBlog'\n",
    "a=''\n",
    "for i in range(len(str)):\n",
    "    print(i*str[i])"
   ]
  },
  {
   "cell_type": "code",
   "execution_count": 7,
   "metadata": {},
   "outputs": [
    {
     "name": "stdout",
     "output_type": "stream",
     "text": [
      "Mg\n"
     ]
    }
   ],
   "source": [
    "# d\n",
    "s='My'\n",
    "s1='Blog'\n",
    "s2=s[:1]+s1[len(s1)-1:]\n",
    "print(s2)"
   ]
  },
  {
   "cell_type": "code",
   "execution_count": 8,
   "metadata": {},
   "outputs": [
    {
     "name": "stdout",
     "output_type": "stream",
     "text": [
      "MyBlogBlog\n"
     ]
    }
   ],
   "source": [
    "# e\n",
    "print(\"My\"+'Blog'*2)"
   ]
  },
  {
   "cell_type": "code",
   "execution_count": 9,
   "metadata": {},
   "outputs": [
    {
     "name": "stdout",
     "output_type": "stream",
     "text": [
      "MyMyMyBlog7\n"
     ]
    }
   ],
   "source": [
    "# f\n",
    "print(\"My\"*3 + \"Blog\" +'7')"
   ]
  },
  {
   "cell_type": "code",
   "execution_count": 10,
   "metadata": {},
   "outputs": [
    {
     "name": "stdout",
     "output_type": "stream",
     "text": [
      "22\n",
      "2222\n",
      "222222\n"
     ]
    }
   ],
   "source": [
    "# g\n",
    "for i in range(2,7,2):\n",
    "    print(i*'2')"
   ]
  },
  {
   "cell_type": "code",
   "execution_count": 11,
   "metadata": {},
   "outputs": [
    {
     "name": "stdout",
     "output_type": "stream",
     "text": [
      "A\n",
      "A\n",
      "A\n",
      "A\n",
      "A\n"
     ]
    }
   ],
   "source": [
    "# h\n",
    "for i in range(3,12,2):\n",
    "    print(\"a\".upper())"
   ]
  },
  {
   "cell_type": "code",
   "execution_count": 12,
   "metadata": {},
   "outputs": [
    {
     "name": "stdout",
     "output_type": "stream",
     "text": [
      "<built-in method upper of str object at 0x00007FFF2EF1DE40>\n"
     ]
    }
   ],
   "source": [
    "# i\n",
    "for i in range(3,12,13):\n",
    "    print(\"a\".upper)"
   ]
  },
  {
   "cell_type": "code",
   "execution_count": 13,
   "metadata": {},
   "outputs": [
    {
     "name": "stdout",
     "output_type": "stream",
     "text": [
      "3\n",
      "4\n",
      "-1\n",
      "9\n"
     ]
    }
   ],
   "source": [
    "# j\n",
    "s='Welcome To My Site https://csiplearninghun.com'\n",
    "print(s.find('come'))\n",
    "print(s.find('o'))\n",
    "print(s.find('o',10,20))\n",
    "print(s.find('o',5,10))"
   ]
  },
  {
   "cell_type": "markdown",
   "metadata": {},
   "source": [
    "Test 3"
   ]
  },
  {
   "cell_type": "code",
   "execution_count": 14,
   "metadata": {},
   "outputs": [],
   "source": [
    "# Q1\n",
    "str1=''"
   ]
  },
  {
   "cell_type": "markdown",
   "metadata": {},
   "source": [
    "Q2\n",
    "Traversing a string means accessing all the elements of the string one by one by using index value.\n",
    "Q3\n",
    "The index value of first element of a string is 0\n",
    "Q4\n",
    "The index value of last element of a string is -1\n",
    "Q5\n",
    "If the length of the string is 10 then what would be the positive index value of last element is 9\n",
    "Q6\n",
    "If the length of string is 9, what would be the index value of middle element is 4\n",
    "Q7\n",
    "Index value of a string cannot be in float\n",
    "Q8\n",
    "print(str1[13]) generates index error when length of string 'str1' is 10\n"
   ]
  },
  {
   "cell_type": "code",
   "execution_count": 15,
   "metadata": {},
   "outputs": [
    {
     "name": "stdout",
     "output_type": "stream",
     "text": [
      "g\n",
      "o\n"
     ]
    }
   ],
   "source": [
    "# Q9\n",
    "str1 =\"Welcome to my Blog\"\n",
    "print(str1[-1])\n",
    "print(str1[9])"
   ]
  },
  {
   "cell_type": "code",
   "execution_count": 16,
   "metadata": {},
   "outputs": [],
   "source": [
    "# Q10\n",
    "str1 = \"Hello World\""
   ]
  },
  {
   "cell_type": "markdown",
   "metadata": {},
   "source": [
    "Hometask2: \n",
    "2.1. write a code that asks the fullname of the user and returns their name in reverse order\n",
    "2.2. Then it should return only the first name from the given input, on condition that the user enters their lastname first and after space their firstname"
   ]
  },
  {
   "cell_type": "code",
   "execution_count": 17,
   "metadata": {},
   "outputs": [
    {
     "name": "stdout",
     "output_type": "stream",
     "text": [
      "Zulayho Hakimova\n",
      "Zulayho\n"
     ]
    }
   ],
   "source": [
    "#2.1\n",
    "full_name = input(\"Please enter your full name: \")\n",
    "\n",
    "name_parts = full_name.split()\n",
    "\n",
    "reversed_name = ' '.join(name_parts[::-1])\n",
    "print(reversed_name)\n",
    "\n",
    "#2.2\n",
    "first_name = name_parts[-1]\n",
    "print(first_name)"
   ]
  },
  {
   "cell_type": "code",
   "execution_count": null,
   "metadata": {},
   "outputs": [],
   "source": []
  }
 ],
 "metadata": {
  "kernelspec": {
   "display_name": ".venv",
   "language": "python",
   "name": "python3"
  },
  "language_info": {
   "codemirror_mode": {
    "name": "ipython",
    "version": 3
   },
   "file_extension": ".py",
   "mimetype": "text/x-python",
   "name": "python",
   "nbconvert_exporter": "python",
   "pygments_lexer": "ipython3",
   "version": "3.12.8"
  }
 },
 "nbformat": 4,
 "nbformat_minor": 2
}
