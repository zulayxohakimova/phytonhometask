{
 "cells": [
  {
   "cell_type": "markdown",
   "metadata": {},
   "source": [
    "Lesson 7 HomeTask"
   ]
  },
  {
   "cell_type": "code",
   "execution_count": 14,
   "metadata": {},
   "outputs": [
    {
     "name": "stdout",
     "output_type": "stream",
     "text": [
      "11\n"
     ]
    }
   ],
   "source": [
    "def roman_to_number(roman):\n",
    "    roman_map = {'I': 1, 'V': 5, 'X': 10, 'L': 50, 'C': 100, 'D': 500, 'M': 1000}\n",
    "    result = 0\n",
    "    \n",
    "    for char in roman:\n",
    "        if char in roman_map:\n",
    "            result += roman_map[char]\n",
    "        #else:\n",
    "              ###### + else \n",
    "    \n",
    "    return result \n",
    "\n",
    "print(roman_to_number(\"XI\"))  "
   ]
  },
  {
   "cell_type": "markdown",
   "metadata": {},
   "source": [
    "w3school / Python functions - 21 Exercises"
   ]
  },
  {
   "cell_type": "code",
   "execution_count": 1,
   "metadata": {},
   "outputs": [
    {
     "name": "stdout",
     "output_type": "stream",
     "text": [
      "8\n"
     ]
    }
   ],
   "source": [
    "# 1. Write a Python function to find the maximum of three numbers.\n",
    "def max_of_two(x, y):\n",
    "    if x > y:\n",
    "        return x\n",
    "    return y\n",
    "\n",
    "def max_of_three(x, y, z):\n",
    "    return max_of_two(x, max_of_two(y, z))\n",
    "\n",
    "print(max_of_three(8, 5, -7))"
   ]
  },
  {
   "cell_type": "code",
   "execution_count": 2,
   "metadata": {},
   "outputs": [
    {
     "name": "stdout",
     "output_type": "stream",
     "text": [
      "20\n"
     ]
    }
   ],
   "source": [
    "# 2. Write a Python function to sum all the numbers in a list. Sample List : (8, 2, 3,  0, 7) , Expected Output : 20\n",
    "def sum_list(list2):\n",
    "    total = 0\n",
    "    for x in list2:\n",
    "        total += x\n",
    "    return total\n",
    "\n",
    "print(sum_list((8, 2, 3, 0, 7)))    "
   ]
  },
  {
   "cell_type": "code",
   "execution_count": 4,
   "metadata": {},
   "outputs": [
    {
     "name": "stdout",
     "output_type": "stream",
     "text": [
      "-336\n"
     ]
    }
   ],
   "source": [
    "# 3. Write a Python function to multiply all the numbers in a list. Sample List : (8, 2, 3, -1, 7) , Expected Output : -336\n",
    "def multiply(numbers):\n",
    "    total = 1\n",
    "    for x in numbers:\n",
    "        total *= x\n",
    "    return total\n",
    "print(multiply((8, 2, 3, -1, 7)))    "
   ]
  },
  {
   "cell_type": "code",
   "execution_count": 5,
   "metadata": {},
   "outputs": [
    {
     "name": "stdout",
     "output_type": "stream",
     "text": [
      "dcba4321\n"
     ]
    }
   ],
   "source": [
    "# 4. Write a Python program to reverse a string. Sample String : \"1234abcd\", Expected Output : \"dcba4321\"\n",
    "def string_reverse(str1):\n",
    "    rstr1 = ''\n",
    "    \n",
    "    index = len(str1)\n",
    "    \n",
    "    while index > 0:\n",
    "        rstr1 += str1[index - 1]\n",
    "        \n",
    "        index = index - 1\n",
    "    \n",
    "    return rstr1\n",
    "\n",
    "print(string_reverse('1234abcd'))"
   ]
  },
  {
   "cell_type": "code",
   "execution_count": 9,
   "metadata": {},
   "outputs": [
    {
     "name": "stdout",
     "output_type": "stream",
     "text": [
      "1\n"
     ]
    }
   ],
   "source": [
    "# 5. Write a Python function to calculate the factorial of a number (a non-negative integer). The function accepts the number as an argument.\n",
    "def factorial(n):\n",
    "    if n ==1 or n ==0:\n",
    "        return 1\n",
    "    return n*factorial(n-1)\n",
    "print(factorial(0))"
   ]
  },
  {
   "cell_type": "code",
   "execution_count": 12,
   "metadata": {},
   "outputs": [
    {
     "name": "stdout",
     "output_type": "stream",
     "text": [
      "The number is outside the given range.\n"
     ]
    }
   ],
   "source": [
    "# 6. Write a Python function to check whether a number falls within a given range.\n",
    "def test_range(n):\n",
    "    if n in range(x, y):\n",
    "        print(\"%s is in the range\" % str(n))\n",
    "    else:\n",
    "        print(\"The number is outside the given range.\")\n",
    "x = int(input(\"Enter the upperbound of the range: \"))\n",
    "y = int(input(\"Enter the lowerbound of the range: \"))        \n",
    "test_range(5)"
   ]
  },
  {
   "cell_type": "code",
   "execution_count": 17,
   "metadata": {},
   "outputs": [
    {
     "name": "stdout",
     "output_type": "stream",
     "text": [
      "Original String:  The quick Brown Fox\n",
      "No. of Upper case characters:  3\n",
      "No. of Lower case Characters:  13\n"
     ]
    }
   ],
   "source": [
    "# 7. Write a Python function that accepts a string and counts the number of upper and lower case letters.\n",
    "# Sample String : 'The quick Brow Fox'\n",
    "# Expected Output :\n",
    "# No. of Upper case characters : 3\n",
    "# No. of Lower case Characters : 12\n",
    "\n",
    "def count(string):\n",
    "    d = {\"UPPER_CASE\": 0, \"LOWER_CASE\": 0}\n",
    "    \n",
    "    for c in string:\n",
    "        if c.isupper():\n",
    "            d[\"UPPER_CASE\"] += 1\n",
    "        elif c.islower():\n",
    "            d[\"LOWER_CASE\"] += 1\n",
    "        else:\n",
    "            pass\n",
    "    \n",
    "    print(\"Original String: \", string)\n",
    "    \n",
    "    print(\"No. of Upper case characters: \", d[\"UPPER_CASE\"])\n",
    "    \n",
    "    print(\"No. of Lower case Characters: \", d[\"LOWER_CASE\"])\n",
    "count('The quick Brown Fox') \n"
   ]
  },
  {
   "cell_type": "code",
   "execution_count": 23,
   "metadata": {},
   "outputs": [
    {
     "name": "stdout",
     "output_type": "stream",
     "text": [
      "[1, 2, 3, 4, 5]\n"
     ]
    }
   ],
   "source": [
    "# 8. Write a Python function that takes a list and returns a new list with distinct elements from the first list.\n",
    "# Sample List : [1,2,3,3,3,3,4,5]\n",
    "# Unique List : [1, 2, 3, 4, 5]\n",
    "\n",
    "def new_list(lst):\n",
    "    return list(dict.fromkeys(lst))\n",
    "\n",
    "print(new_list([1, 2, 3, 3, 3, 3, 4, 5]))"
   ]
  },
  {
   "cell_type": "code",
   "execution_count": 32,
   "metadata": {},
   "outputs": [
    {
     "name": "stdout",
     "output_type": "stream",
     "text": [
      "29 is a prime number.\n"
     ]
    }
   ],
   "source": [
    "# 9. Write a Python function that takes a number as a parameter and checks whether the number is prime or not.\n",
    "# Note : A prime number (or a prime) is a natural number greater than 1 and that has no positive divisors other \n",
    "# than 1 and itself.\n",
    "def check_prime(number):\n",
    "    if number <= 1:\n",
    "        return f\"{number} is not a prime number.\"\n",
    "\n",
    "    for i in range(2, int(number**0.5) + 1):\n",
    "        if number % i == 0:\n",
    "            return f\"{number} is not a prime number.\"\n",
    "    \n",
    "    return f\"{number} is a prime number.\"\n",
    "\n",
    "print(check_prime(29))  "
   ]
  },
  {
   "cell_type": "code",
   "execution_count": 38,
   "metadata": {},
   "outputs": [
    {
     "name": "stdout",
     "output_type": "stream",
     "text": [
      "[2, 4, 6, 8]\n"
     ]
    }
   ],
   "source": [
    "# 10. Write a Python program to print the even numbers from a given list.\n",
    "# Sample List : [1, 2, 3, 4, 5, 6, 7, 8, 9]\n",
    "# Expected Result : [2, 4, 6, 8]\n",
    "\n",
    "def take_even(lst10):\n",
    "    result = []\n",
    "    for i in lst10:\n",
    "        if i % 2 == 0:\n",
    "            result.append(i)\n",
    "    return result\n",
    "\n",
    "print(take_even([1, 2, 3, 4, 5, 6, 7, 8, 9]))        "
   ]
  },
  {
   "cell_type": "code",
   "execution_count": 42,
   "metadata": {},
   "outputs": [
    {
     "name": "stdout",
     "output_type": "stream",
     "text": [
      "True\n",
      "True\n",
      "True\n",
      "True\n",
      "False\n"
     ]
    }
   ],
   "source": [
    "# 11. Write a Python function to check whether a number is \"Perfect\" or not.\n",
    "# According to Wikipedia : In number theory, a perfect number is a positive integer that is equal to the sum of\n",
    "#  its proper positive divisors, that is, the sum of its positive divisors excluding the number itself \n",
    "# (also known as its aliquot sum). Equivalently, a perfect number is a number that is half the sum of all of \n",
    "# its positive divisors (including itself).\n",
    "# Example : The first perfect number is 6, because 1, 2, and 3 are its proper positive divisors, \n",
    "# and 1 + 2 + 3 = 6. Equivalently, the number 6 is equal to half the sum of all its \n",
    "# positive divisors: ( 1 + 2 + 3 + 6 ) / 2 = 6. The next perfect number is 28 = 1 + 2 + 4 + 7 + 14. \n",
    "# This is followed by the perfect numbers 496 and 8128.\n",
    "\n",
    "def is_perfect(number):\n",
    "    if number < 1:\n",
    "        return False  \n",
    "\n",
    "    divisors_sum = 0\n",
    "    for i in range(1, number):\n",
    "        if number % i == 0:\n",
    "            divisors_sum += i\n",
    "\n",
    "    return divisors_sum == number\n",
    "\n",
    "print(is_perfect(6))    \n",
    "print(is_perfect(28))    \n",
    "print(is_perfect(496))  \n",
    "print(is_perfect(8128))\n",
    "print(is_perfect(14))"
   ]
  },
  {
   "cell_type": "code",
   "execution_count": 46,
   "metadata": {},
   "outputs": [
    {
     "name": "stdout",
     "output_type": "stream",
     "text": [
      "True\n",
      "False\n"
     ]
    }
   ],
   "source": [
    "# 12. Write a  Python function that checks whether a passed string is a palindrome or not.\n",
    "# Note: A palindrome is a word, phrase, or sequence that reads the same backward as forward, e.g.,\n",
    "#  madam or nurses run.\n",
    "\n",
    "def palindrome(str12):\n",
    "    return str12 == ''.join(reversed(str12))\n",
    "\n",
    "print(palindrome(\"madam\"))  \n",
    "print(palindrome(\"nurses\")) "
   ]
  },
  {
   "cell_type": "code",
   "execution_count": 54,
   "metadata": {},
   "outputs": [
    {
     "name": "stdout",
     "output_type": "stream",
     "text": [
      "      1      \n",
      "     1 1     \n",
      "    1 2 1    \n",
      "   1 3 3 1   \n",
      "  1 4 6 4 1  \n",
      "1 5 10 10 5 1\n"
     ]
    }
   ],
   "source": [
    "# 13. Write a Python function that prints out the first n rows of Pascal's triangle.\n",
    "# Note : Pascal's triangle is an arithmetic and geometric figure first imagined by Blaise Pascal.\n",
    "# Each number is the two numbers above it added together\n",
    "\n",
    "def pascal(n):\n",
    "    triangle = [] \n",
    "    \n",
    "    for i in range(n):\n",
    "        row = [1]  # The first element of each row is always 1\n",
    "        if triangle:  # If there are already rows, calculate the new row\n",
    "            last_row = triangle[-1]\n",
    "            for j in range(1, i):\n",
    "                row.append(last_row[j - 1] + last_row[j])\n",
    "            row.append(1)  \n",
    "        triangle.append(row)  \n",
    "    max_width = len(' '.join(map(str, triangle[-1])))\n",
    "    for row in triangle:\n",
    "        print(' '.join(map(str, row)).center(max_width))  \n",
    "\n",
    "pascal(6)"
   ]
  },
  {
   "cell_type": "code",
   "execution_count": 55,
   "metadata": {},
   "outputs": [
    {
     "name": "stdout",
     "output_type": "stream",
     "text": [
      "True\n",
      "False\n"
     ]
    }
   ],
   "source": [
    "# 14. Write a Python function to check whether a string is a pangram or not.\n",
    "# Note : Pangrams are words or sentences containing every letter of the alphabet at least once.\n",
    "# For example : \"The quick brown fox jumps over the lazy dog\"\n",
    "\n",
    "import string\n",
    "def pangram(str14):\n",
    "    alphabet_set = set(string.ascii_lowercase)\n",
    "    \n",
    "    input_set = set(str14.lower())\n",
    "    \n",
    "    return alphabet_set.issubset(input_set)\n",
    "\n",
    "print(pangram(\"The quick brown fox jumps over the lazy dog\"))  \n",
    "print(pangram(\"Hello World\"))  "
   ]
  },
  {
   "cell_type": "code",
   "execution_count": 56,
   "metadata": {},
   "outputs": [
    {
     "name": "stdout",
     "output_type": "stream",
     "text": [
      "black-green-red-white-yellow\n"
     ]
    }
   ],
   "source": [
    "# 15. Write a Python program that accepts a hyphen-separated sequence of words as input and prints the words\n",
    "#  in a hyphen-separated sequence after sorting them alphabetically.\n",
    "# Sample Items : green-red-yellow-black-white\n",
    "# Expected Result : black-green-red-white-yellow\n",
    "\n",
    "def sort_hyphenated_words(input_string):\n",
    "    words = input_string.split('-')\n",
    "    \n",
    "    words.sort()\n",
    "    \n",
    "    sorted_string = '-'.join(words)\n",
    "    \n",
    "    return sorted_string\n",
    "\n",
    "input_string = \"green-red-yellow-black-white\"\n",
    "result = sort_hyphenated_words(input_string)\n",
    "print(result)  "
   ]
  },
  {
   "cell_type": "code",
   "execution_count": 59,
   "metadata": {},
   "outputs": [
    {
     "name": "stdout",
     "output_type": "stream",
     "text": [
      "[1, 4, 9, 16, 25, 36, 49, 64, 81, 100, 121, 144, 169, 196, 225, 256, 289, 324, 361, 400, 441, 484, 529, 576, 625, 676, 729, 784, 841, 900]\n"
     ]
    }
   ],
   "source": [
    "# 16. Write a Python function to create and print a list where the values are \n",
    "# the squares of numbers between 1 and 30 (both included).\n",
    "\n",
    "def squares(n):\n",
    "    result = []\n",
    "    for i in range(1, n + 1): \n",
    "        result.append(i ** 2)  \n",
    "    return result  \n",
    "\n",
    "print(squares(30))    "
   ]
  },
  {
   "cell_type": "code",
   "execution_count": 60,
   "metadata": {},
   "outputs": [
    {
     "name": "stdout",
     "output_type": "stream",
     "text": [
      "<b><i><u>Hello, World!</u></i></b>\n"
     ]
    }
   ],
   "source": [
    "# 17. Write a Python program to create a chain of function decorators (bold, italic, underline etc.).\n",
    "\n",
    "def bold(func):\n",
    "    def wrapper(*args, **kwargs):\n",
    "        return f\"<b>{func(*args, **kwargs)}</b>\"\n",
    "    return wrapper\n",
    "\n",
    "def italic(func):\n",
    "    def wrapper(*args, **kwargs):\n",
    "        return f\"<i>{func(*args, **kwargs)}</i>\"\n",
    "    return wrapper\n",
    "\n",
    "def underline(func):\n",
    "    def wrapper(*args, **kwargs):\n",
    "        return f\"<u>{func(*args, **kwargs)}</u>\"\n",
    "    return wrapper\n",
    "\n",
    "@bold\n",
    "@italic\n",
    "@underline\n",
    "def get_text():\n",
    "    return \"Hello, World!\"\n",
    "\n",
    "# Example usage\n",
    "formatted_text = get_text()\n",
    "print(formatted_text)"
   ]
  },
  {
   "cell_type": "code",
   "execution_count": 61,
   "metadata": {},
   "outputs": [
    {
     "name": "stdout",
     "output_type": "stream",
     "text": [
      "hello world\n",
      "Multiply of 2 and 3 is:  6\n"
     ]
    }
   ],
   "source": [
    "# 18. Write a Python program to execute a string containing  Python code.\n",
    "\n",
    "mycode = 'print(\"hello world\")'\n",
    "\n",
    "code = \"\"\"\n",
    "def mutiply(x,y):\n",
    "    return x*y\n",
    "\n",
    "print('Multiply of 2 and 3 is: ',mutiply(2,3))\n",
    "\"\"\"\n",
    "\n",
    "exec(mycode)\n",
    "\n",
    "exec(code) "
   ]
  },
  {
   "cell_type": "code",
   "execution_count": 62,
   "metadata": {},
   "outputs": [
    {
     "name": "stdout",
     "output_type": "stream",
     "text": [
      "Outer function calling: Hello from the inner function!\n"
     ]
    }
   ],
   "source": [
    "# 19. Write a Python program to access a function inside a function.\n",
    "def outer_function():\n",
    "    def inner_function():\n",
    "        return \"Hello from the inner function!\"\n",
    "\n",
    "    result = inner_function()\n",
    "    return f\"Outer function calling: {result}\"\n",
    "\n",
    "output = outer_function()\n",
    "print(output)"
   ]
  },
  {
   "cell_type": "code",
   "execution_count": 66,
   "metadata": {},
   "outputs": [
    {
     "name": "stdout",
     "output_type": "stream",
     "text": [
      "3\n"
     ]
    }
   ],
   "source": [
    "# 20. Write a Python program to detect the number of local variables declared in a function.\n",
    "# Sample Output: 3\n",
    "\n",
    "def count_local_variables():\n",
    "    a = 10\n",
    "    b = 20\n",
    "    c = 30\n",
    "    \n",
    "    local_vars = locals()  \n",
    "    return len(local_vars)  \n",
    "\n",
    "print(count_local_variables())"
   ]
  },
  {
   "cell_type": "code",
   "execution_count": 68,
   "metadata": {},
   "outputs": [
    {
     "name": "stdout",
     "output_type": "stream",
     "text": [
      "Square root after specific milliseconds:\n",
      "4.0\n",
      "10.0\n",
      "158.42979517754858\n"
     ]
    }
   ],
   "source": [
    "# 21.  Write a Python program that invokes a function after a specified period of time.\n",
    "# Sample Output:\n",
    "# Square root after specific miliseconds:\n",
    "# 4.0\n",
    "# 10.0\n",
    "# 158.42979517754858\n",
    "\n",
    "from time import sleep\n",
    "import math\n",
    "\n",
    "def delay(fn, ms, *args):\n",
    "    sleep(ms / 1000)\n",
    "    \n",
    "    return fn(*args)\n",
    "\n",
    "print(\"Square root after specific milliseconds:\") \n",
    "\n",
    "print(delay(lambda x: math.sqrt(x), 100, 16))\n",
    "\n",
    "print(delay(lambda x: math.sqrt(x), 1000, 100))\n",
    "\n",
    "print(delay(lambda x: math.sqrt(x), 2000, 25100))"
   ]
  }
 ],
 "metadata": {
  "kernelspec": {
   "display_name": "Python 3",
   "language": "python",
   "name": "python3"
  },
  "language_info": {
   "codemirror_mode": {
    "name": "ipython",
    "version": 3
   },
   "file_extension": ".py",
   "mimetype": "text/x-python",
   "name": "python",
   "nbconvert_exporter": "python",
   "pygments_lexer": "ipython3",
   "version": "3.12.8"
  }
 },
 "nbformat": 4,
 "nbformat_minor": 2
}
