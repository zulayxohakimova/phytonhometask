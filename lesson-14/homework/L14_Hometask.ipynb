{
 "cells": [
  {
   "cell_type": "markdown",
   "metadata": {},
   "source": [
    "#### Creating Project folfer, and savinfg all actors' information in csv file and picture in gpeg file"
   ]
  },
  {
   "cell_type": "code",
   "execution_count": 2,
   "metadata": {},
   "outputs": [],
   "source": [
    "import json\n",
    "import os\n",
    "import requests\n",
    "\n",
    "columns = 'id,name,birth_year,death_year,nationality\\n'\n",
    "with open('actors.json', 'r') as f:\n",
    "    data = json.load(f)\n",
    "for i in data:\n",
    "    id = i['id']\n",
    "    name = i['name']\n",
    "    birth_year = i['birth_year']\n",
    "    death_year = i.get('death_year', 'no info')\n",
    "    nationality = i['nationality']\n",
    "    actor_image = i['image']\n",
    "    folder_path = rf'Project\\{name}'\n",
    "    csv_file_path = rf'{folder_path}\\{name}.csv'\n",
    "    jpeg_file_path = rf'{folder_path}\\{name}.jpeg'\n",
    "    os.makedirs(folder_path, exist_ok=True)\n",
    "    with open(csv_file_path, 'w') as f:\n",
    "        f.write(columns)\n",
    "        values = f'{id},{name},{birth_year},{death_year},{nationality}'\n",
    "        f.write(values)\n",
    "    with open(jpeg_file_path, 'wb') as f:\n",
    "        response = requests.get(actor_image)\n",
    "        f.write(response.content)\n"
   ]
  }
 ],
 "metadata": {
  "kernelspec": {
   "display_name": "Python 3",
   "language": "python",
   "name": "python3"
  },
  "language_info": {
   "codemirror_mode": {
    "name": "ipython",
    "version": 3
   },
   "file_extension": ".py",
   "mimetype": "text/x-python",
   "name": "python",
   "nbconvert_exporter": "python",
   "pygments_lexer": "ipython3",
   "version": "3.12.8"
  }
 },
 "nbformat": 4,
 "nbformat_minor": 2
}
